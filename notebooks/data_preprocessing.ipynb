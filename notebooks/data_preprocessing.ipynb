{
 "cells": [
  {
   "cell_type": "code",
   "execution_count": null,
   "metadata": {},
   "outputs": [],
   "source": [
    "# %pip install numpy pandas "
   ]
  },
  {
   "cell_type": "code",
   "execution_count": 2,
   "metadata": {},
   "outputs": [],
   "source": [
    "import numpy as np \n",
    "import pandas as pd \n"
   ]
  },
  {
   "cell_type": "code",
   "execution_count": 3,
   "metadata": {},
   "outputs": [],
   "source": [
    "movie = pd.read_csv(r'F:\\DS\\Projects\\movie_recommendation_system\\data\\raw\\movies.csv')\n",
    "credit = pd.read_csv(r'F:\\DS\\Projects\\movie_recommendation_system\\data\\raw\\credits.csv')\n"
   ]
  },
  {
   "cell_type": "code",
   "execution_count": 4,
   "metadata": {},
   "outputs": [
    {
     "data": {
      "text/html": [
       "<div>\n",
       "<style scoped>\n",
       "    .dataframe tbody tr th:only-of-type {\n",
       "        vertical-align: middle;\n",
       "    }\n",
       "\n",
       "    .dataframe tbody tr th {\n",
       "        vertical-align: top;\n",
       "    }\n",
       "\n",
       "    .dataframe thead th {\n",
       "        text-align: right;\n",
       "    }\n",
       "</style>\n",
       "<table border=\"1\" class=\"dataframe\">\n",
       "  <thead>\n",
       "    <tr style=\"text-align: right;\">\n",
       "      <th></th>\n",
       "      <th>budget</th>\n",
       "      <th>genres</th>\n",
       "      <th>homepage</th>\n",
       "      <th>id</th>\n",
       "      <th>keywords</th>\n",
       "      <th>original_language</th>\n",
       "      <th>original_title</th>\n",
       "      <th>overview</th>\n",
       "      <th>popularity</th>\n",
       "      <th>production_companies</th>\n",
       "      <th>production_countries</th>\n",
       "      <th>release_date</th>\n",
       "      <th>revenue</th>\n",
       "      <th>runtime</th>\n",
       "      <th>spoken_languages</th>\n",
       "      <th>status</th>\n",
       "      <th>tagline</th>\n",
       "      <th>title</th>\n",
       "      <th>vote_average</th>\n",
       "      <th>vote_count</th>\n",
       "    </tr>\n",
       "  </thead>\n",
       "  <tbody>\n",
       "    <tr>\n",
       "      <th>0</th>\n",
       "      <td>237000000</td>\n",
       "      <td>[{\"id\": 28, \"name\": \"Action\"}, {\"id\": 12, \"nam...</td>\n",
       "      <td>http://www.avatarmovie.com/</td>\n",
       "      <td>19995</td>\n",
       "      <td>[{\"id\": 1463, \"name\": \"culture clash\"}, {\"id\":...</td>\n",
       "      <td>en</td>\n",
       "      <td>Avatar</td>\n",
       "      <td>In the 22nd century, a paraplegic Marine is di...</td>\n",
       "      <td>150.437577</td>\n",
       "      <td>[{\"name\": \"Ingenious Film Partners\", \"id\": 289...</td>\n",
       "      <td>[{\"iso_3166_1\": \"US\", \"name\": \"United States o...</td>\n",
       "      <td>2009-12-10</td>\n",
       "      <td>2787965087</td>\n",
       "      <td>162.0</td>\n",
       "      <td>[{\"iso_639_1\": \"en\", \"name\": \"English\"}, {\"iso...</td>\n",
       "      <td>Released</td>\n",
       "      <td>Enter the World of Pandora.</td>\n",
       "      <td>Avatar</td>\n",
       "      <td>7.2</td>\n",
       "      <td>11800</td>\n",
       "    </tr>\n",
       "    <tr>\n",
       "      <th>1</th>\n",
       "      <td>300000000</td>\n",
       "      <td>[{\"id\": 12, \"name\": \"Adventure\"}, {\"id\": 14, \"...</td>\n",
       "      <td>http://disney.go.com/disneypictures/pirates/</td>\n",
       "      <td>285</td>\n",
       "      <td>[{\"id\": 270, \"name\": \"ocean\"}, {\"id\": 726, \"na...</td>\n",
       "      <td>en</td>\n",
       "      <td>Pirates of the Caribbean: At World's End</td>\n",
       "      <td>Captain Barbossa, long believed to be dead, ha...</td>\n",
       "      <td>139.082615</td>\n",
       "      <td>[{\"name\": \"Walt Disney Pictures\", \"id\": 2}, {\"...</td>\n",
       "      <td>[{\"iso_3166_1\": \"US\", \"name\": \"United States o...</td>\n",
       "      <td>2007-05-19</td>\n",
       "      <td>961000000</td>\n",
       "      <td>169.0</td>\n",
       "      <td>[{\"iso_639_1\": \"en\", \"name\": \"English\"}]</td>\n",
       "      <td>Released</td>\n",
       "      <td>At the end of the world, the adventure begins.</td>\n",
       "      <td>Pirates of the Caribbean: At World's End</td>\n",
       "      <td>6.9</td>\n",
       "      <td>4500</td>\n",
       "    </tr>\n",
       "  </tbody>\n",
       "</table>\n",
       "</div>"
      ],
      "text/plain": [
       "      budget                                             genres  \\\n",
       "0  237000000  [{\"id\": 28, \"name\": \"Action\"}, {\"id\": 12, \"nam...   \n",
       "1  300000000  [{\"id\": 12, \"name\": \"Adventure\"}, {\"id\": 14, \"...   \n",
       "\n",
       "                                       homepage     id  \\\n",
       "0                   http://www.avatarmovie.com/  19995   \n",
       "1  http://disney.go.com/disneypictures/pirates/    285   \n",
       "\n",
       "                                            keywords original_language  \\\n",
       "0  [{\"id\": 1463, \"name\": \"culture clash\"}, {\"id\":...                en   \n",
       "1  [{\"id\": 270, \"name\": \"ocean\"}, {\"id\": 726, \"na...                en   \n",
       "\n",
       "                             original_title  \\\n",
       "0                                    Avatar   \n",
       "1  Pirates of the Caribbean: At World's End   \n",
       "\n",
       "                                            overview  popularity  \\\n",
       "0  In the 22nd century, a paraplegic Marine is di...  150.437577   \n",
       "1  Captain Barbossa, long believed to be dead, ha...  139.082615   \n",
       "\n",
       "                                production_companies  \\\n",
       "0  [{\"name\": \"Ingenious Film Partners\", \"id\": 289...   \n",
       "1  [{\"name\": \"Walt Disney Pictures\", \"id\": 2}, {\"...   \n",
       "\n",
       "                                production_countries release_date     revenue  \\\n",
       "0  [{\"iso_3166_1\": \"US\", \"name\": \"United States o...   2009-12-10  2787965087   \n",
       "1  [{\"iso_3166_1\": \"US\", \"name\": \"United States o...   2007-05-19   961000000   \n",
       "\n",
       "   runtime                                   spoken_languages    status  \\\n",
       "0    162.0  [{\"iso_639_1\": \"en\", \"name\": \"English\"}, {\"iso...  Released   \n",
       "1    169.0           [{\"iso_639_1\": \"en\", \"name\": \"English\"}]  Released   \n",
       "\n",
       "                                          tagline  \\\n",
       "0                     Enter the World of Pandora.   \n",
       "1  At the end of the world, the adventure begins.   \n",
       "\n",
       "                                      title  vote_average  vote_count  \n",
       "0                                    Avatar           7.2       11800  \n",
       "1  Pirates of the Caribbean: At World's End           6.9        4500  "
      ]
     },
     "execution_count": 4,
     "metadata": {},
     "output_type": "execute_result"
    }
   ],
   "source": [
    "movie.head(2)"
   ]
  },
  {
   "cell_type": "code",
   "execution_count": 5,
   "metadata": {},
   "outputs": [
    {
     "data": {
      "text/html": [
       "<div>\n",
       "<style scoped>\n",
       "    .dataframe tbody tr th:only-of-type {\n",
       "        vertical-align: middle;\n",
       "    }\n",
       "\n",
       "    .dataframe tbody tr th {\n",
       "        vertical-align: top;\n",
       "    }\n",
       "\n",
       "    .dataframe thead th {\n",
       "        text-align: right;\n",
       "    }\n",
       "</style>\n",
       "<table border=\"1\" class=\"dataframe\">\n",
       "  <thead>\n",
       "    <tr style=\"text-align: right;\">\n",
       "      <th></th>\n",
       "      <th>movie_id</th>\n",
       "      <th>title</th>\n",
       "      <th>cast</th>\n",
       "      <th>crew</th>\n",
       "    </tr>\n",
       "  </thead>\n",
       "  <tbody>\n",
       "    <tr>\n",
       "      <th>0</th>\n",
       "      <td>19995</td>\n",
       "      <td>Avatar</td>\n",
       "      <td>[{\"cast_id\": 242, \"character\": \"Jake Sully\", \"...</td>\n",
       "      <td>[{\"credit_id\": \"52fe48009251416c750aca23\", \"de...</td>\n",
       "    </tr>\n",
       "  </tbody>\n",
       "</table>\n",
       "</div>"
      ],
      "text/plain": [
       "   movie_id   title                                               cast  \\\n",
       "0     19995  Avatar  [{\"cast_id\": 242, \"character\": \"Jake Sully\", \"...   \n",
       "\n",
       "                                                crew  \n",
       "0  [{\"credit_id\": \"52fe48009251416c750aca23\", \"de...  "
      ]
     },
     "execution_count": 5,
     "metadata": {},
     "output_type": "execute_result"
    }
   ],
   "source": [
    "credit.head(1)"
   ]
  },
  {
   "cell_type": "code",
   "execution_count": 6,
   "metadata": {},
   "outputs": [
    {
     "data": {
      "text/plain": [
       "0    [{\"cast_id\": 242, \"character\": \"Jake Sully\", \"...\n",
       "Name: cast, dtype: object"
      ]
     },
     "execution_count": 6,
     "metadata": {},
     "output_type": "execute_result"
    }
   ],
   "source": [
    "credit.head(1)['cast']"
   ]
  },
  {
   "cell_type": "code",
   "execution_count": 7,
   "metadata": {},
   "outputs": [],
   "source": [
    "# Merging Both Data Sets \n",
    "\n",
    "df = movie.merge(credit , on = 'title')"
   ]
  },
  {
   "cell_type": "code",
   "execution_count": 8,
   "metadata": {},
   "outputs": [
    {
     "data": {
      "text/plain": [
       "(4803, 20)"
      ]
     },
     "execution_count": 8,
     "metadata": {},
     "output_type": "execute_result"
    }
   ],
   "source": [
    "movie.shape"
   ]
  },
  {
   "cell_type": "code",
   "execution_count": 9,
   "metadata": {},
   "outputs": [
    {
     "data": {
      "text/plain": [
       "(4803, 4)"
      ]
     },
     "execution_count": 9,
     "metadata": {},
     "output_type": "execute_result"
    }
   ],
   "source": [
    "credit.shape"
   ]
  },
  {
   "cell_type": "code",
   "execution_count": 10,
   "metadata": {},
   "outputs": [
    {
     "data": {
      "text/plain": [
       "(4809, 23)"
      ]
     },
     "execution_count": 10,
     "metadata": {},
     "output_type": "execute_result"
    }
   ],
   "source": [
    "movie.merge(credit , on = 'title').shape"
   ]
  },
  {
   "cell_type": "code",
   "execution_count": 11,
   "metadata": {},
   "outputs": [
    {
     "name": "stdout",
     "output_type": "stream",
     "text": [
      "<class 'pandas.core.frame.DataFrame'>\n",
      "RangeIndex: 4809 entries, 0 to 4808\n",
      "Data columns (total 23 columns):\n",
      " #   Column                Non-Null Count  Dtype  \n",
      "---  ------                --------------  -----  \n",
      " 0   budget                4809 non-null   int64  \n",
      " 1   genres                4809 non-null   object \n",
      " 2   homepage              1713 non-null   object \n",
      " 3   id                    4809 non-null   int64  \n",
      " 4   keywords              4809 non-null   object \n",
      " 5   original_language     4809 non-null   object \n",
      " 6   original_title        4809 non-null   object \n",
      " 7   overview              4806 non-null   object \n",
      " 8   popularity            4809 non-null   float64\n",
      " 9   production_companies  4809 non-null   object \n",
      " 10  production_countries  4809 non-null   object \n",
      " 11  release_date          4808 non-null   object \n",
      " 12  revenue               4809 non-null   int64  \n",
      " 13  runtime               4807 non-null   float64\n",
      " 14  spoken_languages      4809 non-null   object \n",
      " 15  status                4809 non-null   object \n",
      " 16  tagline               3965 non-null   object \n",
      " 17  title                 4809 non-null   object \n",
      " 18  vote_average          4809 non-null   float64\n",
      " 19  vote_count            4809 non-null   int64  \n",
      " 20  movie_id              4809 non-null   int64  \n",
      " 21  cast                  4809 non-null   object \n",
      " 22  crew                  4809 non-null   object \n",
      "dtypes: float64(3), int64(5), object(15)\n",
      "memory usage: 864.2+ KB\n"
     ]
    }
   ],
   "source": [
    "df.info()"
   ]
  },
  {
   "cell_type": "code",
   "execution_count": 12,
   "metadata": {},
   "outputs": [
    {
     "data": {
      "text/plain": [
       "original_language\n",
       "en    4510\n",
       "fr      70\n",
       "es      32\n",
       "zh      27\n",
       "de      27\n",
       "hi      19\n",
       "ja      16\n",
       "it      14\n",
       "ko      12\n",
       "cn      12\n",
       "ru      11\n",
       "pt       9\n",
       "da       7\n",
       "sv       5\n",
       "nl       4\n",
       "fa       4\n",
       "th       3\n",
       "he       3\n",
       "ta       2\n",
       "cs       2\n",
       "ro       2\n",
       "id       2\n",
       "ar       2\n",
       "vi       1\n",
       "sl       1\n",
       "ps       1\n",
       "no       1\n",
       "ky       1\n",
       "hu       1\n",
       "pl       1\n",
       "af       1\n",
       "nb       1\n",
       "tr       1\n",
       "is       1\n",
       "xx       1\n",
       "te       1\n",
       "el       1\n",
       "Name: count, dtype: int64"
      ]
     },
     "execution_count": 12,
     "metadata": {},
     "output_type": "execute_result"
    }
   ],
   "source": [
    "df['original_language'].value_counts()"
   ]
  },
  {
   "cell_type": "code",
   "execution_count": 13,
   "metadata": {},
   "outputs": [],
   "source": [
    "# Keeping Those Columns that are essential\n",
    "\n",
    "df  = df[['id' , 'title' , 'genres' , 'cast','crew','overview' , 'keywords']]"
   ]
  },
  {
   "cell_type": "code",
   "execution_count": 14,
   "metadata": {},
   "outputs": [
    {
     "data": {
      "text/html": [
       "<div>\n",
       "<style scoped>\n",
       "    .dataframe tbody tr th:only-of-type {\n",
       "        vertical-align: middle;\n",
       "    }\n",
       "\n",
       "    .dataframe tbody tr th {\n",
       "        vertical-align: top;\n",
       "    }\n",
       "\n",
       "    .dataframe thead th {\n",
       "        text-align: right;\n",
       "    }\n",
       "</style>\n",
       "<table border=\"1\" class=\"dataframe\">\n",
       "  <thead>\n",
       "    <tr style=\"text-align: right;\">\n",
       "      <th></th>\n",
       "      <th>id</th>\n",
       "      <th>title</th>\n",
       "      <th>genres</th>\n",
       "      <th>cast</th>\n",
       "      <th>crew</th>\n",
       "      <th>overview</th>\n",
       "      <th>keywords</th>\n",
       "    </tr>\n",
       "  </thead>\n",
       "  <tbody>\n",
       "    <tr>\n",
       "      <th>0</th>\n",
       "      <td>19995</td>\n",
       "      <td>Avatar</td>\n",
       "      <td>[{\"id\": 28, \"name\": \"Action\"}, {\"id\": 12, \"nam...</td>\n",
       "      <td>[{\"cast_id\": 242, \"character\": \"Jake Sully\", \"...</td>\n",
       "      <td>[{\"credit_id\": \"52fe48009251416c750aca23\", \"de...</td>\n",
       "      <td>In the 22nd century, a paraplegic Marine is di...</td>\n",
       "      <td>[{\"id\": 1463, \"name\": \"culture clash\"}, {\"id\":...</td>\n",
       "    </tr>\n",
       "    <tr>\n",
       "      <th>1</th>\n",
       "      <td>285</td>\n",
       "      <td>Pirates of the Caribbean: At World's End</td>\n",
       "      <td>[{\"id\": 12, \"name\": \"Adventure\"}, {\"id\": 14, \"...</td>\n",
       "      <td>[{\"cast_id\": 4, \"character\": \"Captain Jack Spa...</td>\n",
       "      <td>[{\"credit_id\": \"52fe4232c3a36847f800b579\", \"de...</td>\n",
       "      <td>Captain Barbossa, long believed to be dead, ha...</td>\n",
       "      <td>[{\"id\": 270, \"name\": \"ocean\"}, {\"id\": 726, \"na...</td>\n",
       "    </tr>\n",
       "    <tr>\n",
       "      <th>2</th>\n",
       "      <td>206647</td>\n",
       "      <td>Spectre</td>\n",
       "      <td>[{\"id\": 28, \"name\": \"Action\"}, {\"id\": 12, \"nam...</td>\n",
       "      <td>[{\"cast_id\": 1, \"character\": \"James Bond\", \"cr...</td>\n",
       "      <td>[{\"credit_id\": \"54805967c3a36829b5002c41\", \"de...</td>\n",
       "      <td>A cryptic message from Bond’s past sends him o...</td>\n",
       "      <td>[{\"id\": 470, \"name\": \"spy\"}, {\"id\": 818, \"name...</td>\n",
       "    </tr>\n",
       "    <tr>\n",
       "      <th>3</th>\n",
       "      <td>49026</td>\n",
       "      <td>The Dark Knight Rises</td>\n",
       "      <td>[{\"id\": 28, \"name\": \"Action\"}, {\"id\": 80, \"nam...</td>\n",
       "      <td>[{\"cast_id\": 2, \"character\": \"Bruce Wayne / Ba...</td>\n",
       "      <td>[{\"credit_id\": \"52fe4781c3a36847f81398c3\", \"de...</td>\n",
       "      <td>Following the death of District Attorney Harve...</td>\n",
       "      <td>[{\"id\": 849, \"name\": \"dc comics\"}, {\"id\": 853,...</td>\n",
       "    </tr>\n",
       "    <tr>\n",
       "      <th>4</th>\n",
       "      <td>49529</td>\n",
       "      <td>John Carter</td>\n",
       "      <td>[{\"id\": 28, \"name\": \"Action\"}, {\"id\": 12, \"nam...</td>\n",
       "      <td>[{\"cast_id\": 5, \"character\": \"John Carter\", \"c...</td>\n",
       "      <td>[{\"credit_id\": \"52fe479ac3a36847f813eaa3\", \"de...</td>\n",
       "      <td>John Carter is a war-weary, former military ca...</td>\n",
       "      <td>[{\"id\": 818, \"name\": \"based on novel\"}, {\"id\":...</td>\n",
       "    </tr>\n",
       "  </tbody>\n",
       "</table>\n",
       "</div>"
      ],
      "text/plain": [
       "       id                                     title  \\\n",
       "0   19995                                    Avatar   \n",
       "1     285  Pirates of the Caribbean: At World's End   \n",
       "2  206647                                   Spectre   \n",
       "3   49026                     The Dark Knight Rises   \n",
       "4   49529                               John Carter   \n",
       "\n",
       "                                              genres  \\\n",
       "0  [{\"id\": 28, \"name\": \"Action\"}, {\"id\": 12, \"nam...   \n",
       "1  [{\"id\": 12, \"name\": \"Adventure\"}, {\"id\": 14, \"...   \n",
       "2  [{\"id\": 28, \"name\": \"Action\"}, {\"id\": 12, \"nam...   \n",
       "3  [{\"id\": 28, \"name\": \"Action\"}, {\"id\": 80, \"nam...   \n",
       "4  [{\"id\": 28, \"name\": \"Action\"}, {\"id\": 12, \"nam...   \n",
       "\n",
       "                                                cast  \\\n",
       "0  [{\"cast_id\": 242, \"character\": \"Jake Sully\", \"...   \n",
       "1  [{\"cast_id\": 4, \"character\": \"Captain Jack Spa...   \n",
       "2  [{\"cast_id\": 1, \"character\": \"James Bond\", \"cr...   \n",
       "3  [{\"cast_id\": 2, \"character\": \"Bruce Wayne / Ba...   \n",
       "4  [{\"cast_id\": 5, \"character\": \"John Carter\", \"c...   \n",
       "\n",
       "                                                crew  \\\n",
       "0  [{\"credit_id\": \"52fe48009251416c750aca23\", \"de...   \n",
       "1  [{\"credit_id\": \"52fe4232c3a36847f800b579\", \"de...   \n",
       "2  [{\"credit_id\": \"54805967c3a36829b5002c41\", \"de...   \n",
       "3  [{\"credit_id\": \"52fe4781c3a36847f81398c3\", \"de...   \n",
       "4  [{\"credit_id\": \"52fe479ac3a36847f813eaa3\", \"de...   \n",
       "\n",
       "                                            overview  \\\n",
       "0  In the 22nd century, a paraplegic Marine is di...   \n",
       "1  Captain Barbossa, long believed to be dead, ha...   \n",
       "2  A cryptic message from Bond’s past sends him o...   \n",
       "3  Following the death of District Attorney Harve...   \n",
       "4  John Carter is a war-weary, former military ca...   \n",
       "\n",
       "                                            keywords  \n",
       "0  [{\"id\": 1463, \"name\": \"culture clash\"}, {\"id\":...  \n",
       "1  [{\"id\": 270, \"name\": \"ocean\"}, {\"id\": 726, \"na...  \n",
       "2  [{\"id\": 470, \"name\": \"spy\"}, {\"id\": 818, \"name...  \n",
       "3  [{\"id\": 849, \"name\": \"dc comics\"}, {\"id\": 853,...  \n",
       "4  [{\"id\": 818, \"name\": \"based on novel\"}, {\"id\":...  "
      ]
     },
     "execution_count": 14,
     "metadata": {},
     "output_type": "execute_result"
    }
   ],
   "source": [
    "df.head()"
   ]
  },
  {
   "cell_type": "code",
   "execution_count": 15,
   "metadata": {},
   "outputs": [
    {
     "data": {
      "text/plain": [
       "id          0\n",
       "title       0\n",
       "genres      0\n",
       "cast        0\n",
       "crew        0\n",
       "overview    3\n",
       "keywords    0\n",
       "dtype: int64"
      ]
     },
     "execution_count": 15,
     "metadata": {},
     "output_type": "execute_result"
    }
   ],
   "source": [
    "df.isnull().sum()"
   ]
  },
  {
   "cell_type": "code",
   "execution_count": 16,
   "metadata": {},
   "outputs": [],
   "source": [
    "df.dropna(inplace=True)"
   ]
  },
  {
   "cell_type": "code",
   "execution_count": 17,
   "metadata": {},
   "outputs": [
    {
     "data": {
      "text/plain": [
       "np.int64(0)"
      ]
     },
     "execution_count": 17,
     "metadata": {},
     "output_type": "execute_result"
    }
   ],
   "source": [
    "df.duplicated().sum()"
   ]
  },
  {
   "cell_type": "code",
   "execution_count": 18,
   "metadata": {},
   "outputs": [
    {
     "data": {
      "text/plain": [
       "'[{\"id\": 28, \"name\": \"Action\"}, {\"id\": 12, \"name\": \"Adventure\"}, {\"id\": 14, \"name\": \"Fantasy\"}, {\"id\": 878, \"name\": \"Science Fiction\"}]'"
      ]
     },
     "execution_count": 18,
     "metadata": {},
     "output_type": "execute_result"
    }
   ],
   "source": [
    "df.iloc[0].genres # in the form of list of dictionaries"
   ]
  },
  {
   "cell_type": "code",
   "execution_count": 19,
   "metadata": {},
   "outputs": [],
   "source": [
    "import ast\n",
    "# ast for converting string to a list\n",
    "def convert(obj):\n",
    "    L = []\n",
    "    for i in ast.literal_eval(obj):\n",
    "        L.append(i['name'])\n",
    "    return L"
   ]
  },
  {
   "cell_type": "code",
   "execution_count": 20,
   "metadata": {},
   "outputs": [],
   "source": [
    "df['genres']= df['genres'].apply(convert)"
   ]
  },
  {
   "cell_type": "code",
   "execution_count": 21,
   "metadata": {},
   "outputs": [
    {
     "data": {
      "text/html": [
       "<div>\n",
       "<style scoped>\n",
       "    .dataframe tbody tr th:only-of-type {\n",
       "        vertical-align: middle;\n",
       "    }\n",
       "\n",
       "    .dataframe tbody tr th {\n",
       "        vertical-align: top;\n",
       "    }\n",
       "\n",
       "    .dataframe thead th {\n",
       "        text-align: right;\n",
       "    }\n",
       "</style>\n",
       "<table border=\"1\" class=\"dataframe\">\n",
       "  <thead>\n",
       "    <tr style=\"text-align: right;\">\n",
       "      <th></th>\n",
       "      <th>id</th>\n",
       "      <th>title</th>\n",
       "      <th>genres</th>\n",
       "      <th>cast</th>\n",
       "      <th>crew</th>\n",
       "      <th>overview</th>\n",
       "      <th>keywords</th>\n",
       "    </tr>\n",
       "  </thead>\n",
       "  <tbody>\n",
       "    <tr>\n",
       "      <th>0</th>\n",
       "      <td>19995</td>\n",
       "      <td>Avatar</td>\n",
       "      <td>[Action, Adventure, Fantasy, Science Fiction]</td>\n",
       "      <td>[{\"cast_id\": 242, \"character\": \"Jake Sully\", \"...</td>\n",
       "      <td>[{\"credit_id\": \"52fe48009251416c750aca23\", \"de...</td>\n",
       "      <td>In the 22nd century, a paraplegic Marine is di...</td>\n",
       "      <td>[{\"id\": 1463, \"name\": \"culture clash\"}, {\"id\":...</td>\n",
       "    </tr>\n",
       "    <tr>\n",
       "      <th>1</th>\n",
       "      <td>285</td>\n",
       "      <td>Pirates of the Caribbean: At World's End</td>\n",
       "      <td>[Adventure, Fantasy, Action]</td>\n",
       "      <td>[{\"cast_id\": 4, \"character\": \"Captain Jack Spa...</td>\n",
       "      <td>[{\"credit_id\": \"52fe4232c3a36847f800b579\", \"de...</td>\n",
       "      <td>Captain Barbossa, long believed to be dead, ha...</td>\n",
       "      <td>[{\"id\": 270, \"name\": \"ocean\"}, {\"id\": 726, \"na...</td>\n",
       "    </tr>\n",
       "    <tr>\n",
       "      <th>2</th>\n",
       "      <td>206647</td>\n",
       "      <td>Spectre</td>\n",
       "      <td>[Action, Adventure, Crime]</td>\n",
       "      <td>[{\"cast_id\": 1, \"character\": \"James Bond\", \"cr...</td>\n",
       "      <td>[{\"credit_id\": \"54805967c3a36829b5002c41\", \"de...</td>\n",
       "      <td>A cryptic message from Bond’s past sends him o...</td>\n",
       "      <td>[{\"id\": 470, \"name\": \"spy\"}, {\"id\": 818, \"name...</td>\n",
       "    </tr>\n",
       "    <tr>\n",
       "      <th>3</th>\n",
       "      <td>49026</td>\n",
       "      <td>The Dark Knight Rises</td>\n",
       "      <td>[Action, Crime, Drama, Thriller]</td>\n",
       "      <td>[{\"cast_id\": 2, \"character\": \"Bruce Wayne / Ba...</td>\n",
       "      <td>[{\"credit_id\": \"52fe4781c3a36847f81398c3\", \"de...</td>\n",
       "      <td>Following the death of District Attorney Harve...</td>\n",
       "      <td>[{\"id\": 849, \"name\": \"dc comics\"}, {\"id\": 853,...</td>\n",
       "    </tr>\n",
       "    <tr>\n",
       "      <th>4</th>\n",
       "      <td>49529</td>\n",
       "      <td>John Carter</td>\n",
       "      <td>[Action, Adventure, Science Fiction]</td>\n",
       "      <td>[{\"cast_id\": 5, \"character\": \"John Carter\", \"c...</td>\n",
       "      <td>[{\"credit_id\": \"52fe479ac3a36847f813eaa3\", \"de...</td>\n",
       "      <td>John Carter is a war-weary, former military ca...</td>\n",
       "      <td>[{\"id\": 818, \"name\": \"based on novel\"}, {\"id\":...</td>\n",
       "    </tr>\n",
       "  </tbody>\n",
       "</table>\n",
       "</div>"
      ],
      "text/plain": [
       "       id                                     title  \\\n",
       "0   19995                                    Avatar   \n",
       "1     285  Pirates of the Caribbean: At World's End   \n",
       "2  206647                                   Spectre   \n",
       "3   49026                     The Dark Knight Rises   \n",
       "4   49529                               John Carter   \n",
       "\n",
       "                                          genres  \\\n",
       "0  [Action, Adventure, Fantasy, Science Fiction]   \n",
       "1                   [Adventure, Fantasy, Action]   \n",
       "2                     [Action, Adventure, Crime]   \n",
       "3               [Action, Crime, Drama, Thriller]   \n",
       "4           [Action, Adventure, Science Fiction]   \n",
       "\n",
       "                                                cast  \\\n",
       "0  [{\"cast_id\": 242, \"character\": \"Jake Sully\", \"...   \n",
       "1  [{\"cast_id\": 4, \"character\": \"Captain Jack Spa...   \n",
       "2  [{\"cast_id\": 1, \"character\": \"James Bond\", \"cr...   \n",
       "3  [{\"cast_id\": 2, \"character\": \"Bruce Wayne / Ba...   \n",
       "4  [{\"cast_id\": 5, \"character\": \"John Carter\", \"c...   \n",
       "\n",
       "                                                crew  \\\n",
       "0  [{\"credit_id\": \"52fe48009251416c750aca23\", \"de...   \n",
       "1  [{\"credit_id\": \"52fe4232c3a36847f800b579\", \"de...   \n",
       "2  [{\"credit_id\": \"54805967c3a36829b5002c41\", \"de...   \n",
       "3  [{\"credit_id\": \"52fe4781c3a36847f81398c3\", \"de...   \n",
       "4  [{\"credit_id\": \"52fe479ac3a36847f813eaa3\", \"de...   \n",
       "\n",
       "                                            overview  \\\n",
       "0  In the 22nd century, a paraplegic Marine is di...   \n",
       "1  Captain Barbossa, long believed to be dead, ha...   \n",
       "2  A cryptic message from Bond’s past sends him o...   \n",
       "3  Following the death of District Attorney Harve...   \n",
       "4  John Carter is a war-weary, former military ca...   \n",
       "\n",
       "                                            keywords  \n",
       "0  [{\"id\": 1463, \"name\": \"culture clash\"}, {\"id\":...  \n",
       "1  [{\"id\": 270, \"name\": \"ocean\"}, {\"id\": 726, \"na...  \n",
       "2  [{\"id\": 470, \"name\": \"spy\"}, {\"id\": 818, \"name...  \n",
       "3  [{\"id\": 849, \"name\": \"dc comics\"}, {\"id\": 853,...  \n",
       "4  [{\"id\": 818, \"name\": \"based on novel\"}, {\"id\":...  "
      ]
     },
     "execution_count": 21,
     "metadata": {},
     "output_type": "execute_result"
    }
   ],
   "source": [
    "df.head()"
   ]
  },
  {
   "cell_type": "code",
   "execution_count": 22,
   "metadata": {},
   "outputs": [],
   "source": [
    "\n",
    "df['keywords']= df['keywords'].apply(convert)"
   ]
  },
  {
   "cell_type": "code",
   "execution_count": 23,
   "metadata": {},
   "outputs": [
    {
     "data": {
      "text/plain": [
       "0       [culture clash, future, space war, space colon...\n",
       "1       [ocean, drug abuse, exotic island, east india ...\n",
       "2       [spy, based on novel, secret agent, sequel, mi...\n",
       "3       [dc comics, crime fighter, terrorist, secret i...\n",
       "4       [based on novel, mars, medallion, space travel...\n",
       "                              ...                        \n",
       "4804    [united states–mexico barrier, legs, arms, pap...\n",
       "4805                                                   []\n",
       "4806    [date, love at first sight, narration, investi...\n",
       "4807                                                   []\n",
       "4808            [obsession, camcorder, crush, dream girl]\n",
       "Name: keywords, Length: 4806, dtype: object"
      ]
     },
     "execution_count": 23,
     "metadata": {},
     "output_type": "execute_result"
    }
   ],
   "source": [
    "df['keywords']"
   ]
  },
  {
   "cell_type": "code",
   "execution_count": 24,
   "metadata": {},
   "outputs": [],
   "source": [
    "def convert3(obj):\n",
    "    L =[] \n",
    "    counter =0\n",
    "    for i in ast.literal_eval(obj):\n",
    "        if counter != 3:\n",
    "            L.append(i['name'])\n",
    "            counter += 1\n",
    "        else:\n",
    "            break \n",
    "    return L \n"
   ]
  },
  {
   "cell_type": "code",
   "execution_count": 25,
   "metadata": {},
   "outputs": [],
   "source": [
    "df['cast']= df['cast'].apply(convert3) "
   ]
  },
  {
   "cell_type": "code",
   "execution_count": 26,
   "metadata": {},
   "outputs": [
    {
     "data": {
      "text/plain": [
       "['Sam Worthington', 'Zoe Saldana', 'Sigourney Weaver']"
      ]
     },
     "execution_count": 26,
     "metadata": {},
     "output_type": "execute_result"
    }
   ],
   "source": [
    "df['cast'][0]"
   ]
  },
  {
   "cell_type": "code",
   "execution_count": 27,
   "metadata": {},
   "outputs": [
    {
     "data": {
      "text/plain": [
       "'[{\"credit_id\": \"52fe48009251416c750aca23\", \"department\": \"Editing\", \"gender\": 0, \"id\": 1721, \"job\": \"Editor\", \"name\": \"Stephen E. Rivkin\"}, {\"credit_id\": \"539c47ecc3a36810e3001f87\", \"department\": \"Art\", \"gender\": 2, \"id\": 496, \"job\": \"Production Design\", \"name\": \"Rick Carter\"}, {\"credit_id\": \"54491c89c3a3680fb4001cf7\", \"department\": \"Sound\", \"gender\": 0, \"id\": 900, \"job\": \"Sound Designer\", \"name\": \"Christopher Boyes\"}, {\"credit_id\": \"54491cb70e0a267480001bd0\", \"department\": \"Sound\", \"gender\": 0, \"id\": 900, \"job\": \"Supervising Sound Editor\", \"name\": \"Christopher Boyes\"}, {\"credit_id\": \"539c4a4cc3a36810c9002101\", \"department\": \"Production\", \"gender\": 1, \"id\": 1262, \"job\": \"Casting\", \"name\": \"Mali Finn\"}, {\"credit_id\": \"5544ee3b925141499f0008fc\", \"department\": \"Sound\", \"gender\": 2, \"id\": 1729, \"job\": \"Original Music Composer\", \"name\": \"James Horner\"}, {\"credit_id\": \"52fe48009251416c750ac9c3\", \"department\": \"Directing\", \"gender\": 2, \"id\": 2710, \"job\": \"Director\", \"name\": \"James Cameron\"}, {\"credit_id\": \"52fe48009251416c750ac9d9\", \"department\": \"Writing\", \"gender\": 2, \"id\": 2710, \"job\": \"Writer\", \"name\": \"James Cameron\"}, {\"credit_id\": \"52fe48009251416c750aca17\", \"department\": \"Editing\", \"gender\": 2, \"id\": 2710, \"job\": \"Editor\", \"name\": \"James Cameron\"}, {\"credit_id\": \"52fe48009251416c750aca29\", \"department\": \"Production\", \"gender\": 2, \"id\": 2710, \"job\": \"Producer\", \"name\": \"James Cameron\"}, {\"credit_id\": \"52fe48009251416c750aca3f\", \"department\": \"Writing\", \"gender\": 2, \"id\": 2710, \"job\": \"Screenplay\", \"name\": \"James Cameron\"}, {\"credit_id\": \"539c4987c3a36810ba0021a4\", \"department\": \"Art\", \"gender\": 2, \"id\": 7236, \"job\": \"Art Direction\", \"name\": \"Andrew Menzies\"}, {\"credit_id\": \"549598c3c3a3686ae9004383\", \"department\": \"Visual Effects\", \"gender\": 0, \"id\": 6690, \"job\": \"Visual Effects Producer\", \"name\": \"Jill Brooks\"}, {\"credit_id\": \"52fe48009251416c750aca4b\", \"department\": \"Production\", \"gender\": 1, \"id\": 6347, \"job\": \"Casting\", \"name\": \"Margery Simkin\"}, {\"credit_id\": \"570b6f419251417da70032fe\", \"department\": \"Art\", \"gender\": 2, \"id\": 6878, \"job\": \"Supervising Art Director\", \"name\": \"Kevin Ishioka\"}, {\"credit_id\": \"5495a0fac3a3686ae9004468\", \"department\": \"Sound\", \"gender\": 0, \"id\": 6883, \"job\": \"Music Editor\", \"name\": \"Dick Bernstein\"}, {\"credit_id\": \"54959706c3a3686af3003e81\", \"department\": \"Sound\", \"gender\": 0, \"id\": 8159, \"job\": \"Sound Effects Editor\", \"name\": \"Shannon Mills\"}, {\"credit_id\": \"54491d58c3a3680fb1001ccb\", \"department\": \"Sound\", \"gender\": 0, \"id\": 8160, \"job\": \"Foley\", \"name\": \"Dennie Thorpe\"}, {\"credit_id\": \"54491d6cc3a3680fa5001b2c\", \"department\": \"Sound\", \"gender\": 0, \"id\": 8163, \"job\": \"Foley\", \"name\": \"Jana Vance\"}, {\"credit_id\": \"52fe48009251416c750aca57\", \"department\": \"Costume & Make-Up\", \"gender\": 1, \"id\": 8527, \"job\": \"Costume Design\", \"name\": \"Deborah Lynn Scott\"}, {\"credit_id\": \"52fe48009251416c750aca2f\", \"department\": \"Production\", \"gender\": 2, \"id\": 8529, \"job\": \"Producer\", \"name\": \"Jon Landau\"}, {\"credit_id\": \"539c4937c3a36810ba002194\", \"department\": \"Art\", \"gender\": 0, \"id\": 9618, \"job\": \"Art Direction\", \"name\": \"Sean Haworth\"}, {\"credit_id\": \"539c49b6c3a36810c10020e6\", \"department\": \"Art\", \"gender\": 1, \"id\": 12653, \"job\": \"Set Decoration\", \"name\": \"Kim Sinclair\"}, {\"credit_id\": \"570b6f2f9251413a0e00020d\", \"department\": \"Art\", \"gender\": 1, \"id\": 12653, \"job\": \"Supervising Art Director\", \"name\": \"Kim Sinclair\"}, {\"credit_id\": \"54491a6c0e0a26748c001b19\", \"department\": \"Art\", \"gender\": 2, \"id\": 14350, \"job\": \"Set Designer\", \"name\": \"Richard F. Mays\"}, {\"credit_id\": \"56928cf4c3a3684cff0025c4\", \"department\": \"Production\", \"gender\": 1, \"id\": 20294, \"job\": \"Executive Producer\", \"name\": \"Laeta Kalogridis\"}, {\"credit_id\": \"52fe48009251416c750aca51\", \"department\": \"Costume & Make-Up\", \"gender\": 0, \"id\": 17675, \"job\": \"Costume Design\", \"name\": \"Mayes C. Rubeo\"}, {\"credit_id\": \"52fe48009251416c750aca11\", \"department\": \"Camera\", \"gender\": 2, \"id\": 18265, \"job\": \"Director of Photography\", \"name\": \"Mauro Fiore\"}, {\"credit_id\": \"5449194d0e0a26748f001b39\", \"department\": \"Art\", \"gender\": 0, \"id\": 42281, \"job\": \"Set Designer\", \"name\": \"Scott Herbertson\"}, {\"credit_id\": \"52fe48009251416c750aca05\", \"department\": \"Crew\", \"gender\": 0, \"id\": 42288, \"job\": \"Stunts\", \"name\": \"Woody Schultz\"}, {\"credit_id\": \"5592aefb92514152de0010f5\", \"department\": \"Costume & Make-Up\", \"gender\": 0, \"id\": 29067, \"job\": \"Makeup Artist\", \"name\": \"Linda DeVetta\"}, {\"credit_id\": \"5592afa492514152de00112c\", \"department\": \"Costume & Make-Up\", \"gender\": 0, \"id\": 29067, \"job\": \"Hairstylist\", \"name\": \"Linda DeVetta\"}, {\"credit_id\": \"54959ed592514130fc002e5d\", \"department\": \"Camera\", \"gender\": 2, \"id\": 33302, \"job\": \"Camera Operator\", \"name\": \"Richard Bluck\"}, {\"credit_id\": \"539c4891c3a36810ba002147\", \"department\": \"Art\", \"gender\": 2, \"id\": 33303, \"job\": \"Art Direction\", \"name\": \"Simon Bright\"}, {\"credit_id\": \"54959c069251417a81001f3a\", \"department\": \"Visual Effects\", \"gender\": 0, \"id\": 113145, \"job\": \"Visual Effects Supervisor\", \"name\": \"Richard Martin\"}, {\"credit_id\": \"54959a0dc3a3680ff5002c8d\", \"department\": \"Crew\", \"gender\": 2, \"id\": 58188, \"job\": \"Visual Effects Editor\", \"name\": \"Steve R. Moore\"}, {\"credit_id\": \"52fe48009251416c750aca1d\", \"department\": \"Editing\", \"gender\": 2, \"id\": 58871, \"job\": \"Editor\", \"name\": \"John Refoua\"}, {\"credit_id\": \"54491a4dc3a3680fc30018ca\", \"department\": \"Art\", \"gender\": 0, \"id\": 92359, \"job\": \"Set Designer\", \"name\": \"Karl J. Martin\"}, {\"credit_id\": \"52fe48009251416c750aca35\", \"department\": \"Camera\", \"gender\": 1, \"id\": 72201, \"job\": \"Director of Photography\", \"name\": \"Chiling Lin\"}, {\"credit_id\": \"52fe48009251416c750ac9ff\", \"department\": \"Crew\", \"gender\": 0, \"id\": 89714, \"job\": \"Stunts\", \"name\": \"Ilram Choi\"}, {\"credit_id\": \"54959c529251416e2b004394\", \"department\": \"Visual Effects\", \"gender\": 2, \"id\": 93214, \"job\": \"Visual Effects Supervisor\", \"name\": \"Steven Quale\"}, {\"credit_id\": \"54491edf0e0a267489001c37\", \"department\": \"Crew\", \"gender\": 1, \"id\": 122607, \"job\": \"Dialect Coach\", \"name\": \"Carla Meyer\"}, {\"credit_id\": \"539c485bc3a368653d001a3a\", \"department\": \"Art\", \"gender\": 2, \"id\": 132585, \"job\": \"Art Direction\", \"name\": \"Nick Bassett\"}, {\"credit_id\": \"539c4903c3a368653d001a74\", \"department\": \"Art\", \"gender\": 0, \"id\": 132596, \"job\": \"Art Direction\", \"name\": \"Jill Cormack\"}, {\"credit_id\": \"539c4967c3a368653d001a94\", \"department\": \"Art\", \"gender\": 0, \"id\": 132604, \"job\": \"Art Direction\", \"name\": \"Andy McLaren\"}, {\"credit_id\": \"52fe48009251416c750aca45\", \"department\": \"Crew\", \"gender\": 0, \"id\": 236696, \"job\": \"Motion Capture Artist\", \"name\": \"Terry Notary\"}, {\"credit_id\": \"54959e02c3a3680fc60027d2\", \"department\": \"Crew\", \"gender\": 2, \"id\": 956198, \"job\": \"Stunt Coordinator\", \"name\": \"Garrett Warren\"}, {\"credit_id\": \"54959ca3c3a3686ae300438c\", \"department\": \"Visual Effects\", \"gender\": 2, \"id\": 957874, \"job\": \"Visual Effects Supervisor\", \"name\": \"Jonathan Rothbart\"}, {\"credit_id\": \"570b6f519251412c74001b2f\", \"department\": \"Art\", \"gender\": 0, \"id\": 957889, \"job\": \"Supervising Art Director\", \"name\": \"Stefan Dechant\"}, {\"credit_id\": \"570b6f62c3a3680b77007460\", \"department\": \"Art\", \"gender\": 2, \"id\": 959555, \"job\": \"Supervising Art Director\", \"name\": \"Todd Cherniawsky\"}, {\"credit_id\": \"539c4a3ac3a36810da0021cc\", \"department\": \"Production\", \"gender\": 0, \"id\": 1016177, \"job\": \"Casting\", \"name\": \"Miranda Rivers\"}, {\"credit_id\": \"539c482cc3a36810c1002062\", \"department\": \"Art\", \"gender\": 0, \"id\": 1032536, \"job\": \"Production Design\", \"name\": \"Robert Stromberg\"}, {\"credit_id\": \"539c4b65c3a36810c9002125\", \"department\": \"Costume & Make-Up\", \"gender\": 2, \"id\": 1071680, \"job\": \"Costume Design\", \"name\": \"John Harding\"}, {\"credit_id\": \"54959e6692514130fc002e4e\", \"department\": \"Camera\", \"gender\": 0, \"id\": 1177364, \"job\": \"Steadicam Operator\", \"name\": \"Roberto De Angelis\"}, {\"credit_id\": \"539c49f1c3a368653d001aac\", \"department\": \"Costume & Make-Up\", \"gender\": 2, \"id\": 1202850, \"job\": \"Makeup Department Head\", \"name\": \"Mike Smithson\"}, {\"credit_id\": \"5495999ec3a3686ae100460c\", \"department\": \"Visual Effects\", \"gender\": 0, \"id\": 1204668, \"job\": \"Visual Effects Producer\", \"name\": \"Alain Lalanne\"}, {\"credit_id\": \"54959cdfc3a3681153002729\", \"department\": \"Visual Effects\", \"gender\": 0, \"id\": 1206410, \"job\": \"Visual Effects Supervisor\", \"name\": \"Lucas Salton\"}, {\"credit_id\": \"549596239251417a81001eae\", \"department\": \"Crew\", \"gender\": 0, \"id\": 1234266, \"job\": \"Post Production Supervisor\", \"name\": \"Janace Tashjian\"}, {\"credit_id\": \"54959c859251416e1e003efe\", \"department\": \"Visual Effects\", \"gender\": 0, \"id\": 1271932, \"job\": \"Visual Effects Supervisor\", \"name\": \"Stephen Rosenbaum\"}, {\"credit_id\": \"5592af28c3a368775a00105f\", \"department\": \"Costume & Make-Up\", \"gender\": 0, \"id\": 1310064, \"job\": \"Makeup Artist\", \"name\": \"Frankie Karena\"}, {\"credit_id\": \"539c4adfc3a36810e300203b\", \"department\": \"Costume & Make-Up\", \"gender\": 1, \"id\": 1319844, \"job\": \"Costume Supervisor\", \"name\": \"Lisa Lovaas\"}, {\"credit_id\": \"54959b579251416e2b004371\", \"department\": \"Visual Effects\", \"gender\": 0, \"id\": 1327028, \"job\": \"Visual Effects Supervisor\", \"name\": \"Jonathan Fawkner\"}, {\"credit_id\": \"539c48a7c3a36810b5001fa7\", \"department\": \"Art\", \"gender\": 0, \"id\": 1330561, \"job\": \"Art Direction\", \"name\": \"Robert Bavin\"}, {\"credit_id\": \"539c4a71c3a36810da0021e0\", \"department\": \"Costume & Make-Up\", \"gender\": 0, \"id\": 1330567, \"job\": \"Costume Supervisor\", \"name\": \"Anthony Almaraz\"}, {\"credit_id\": \"539c4a8ac3a36810ba0021e4\", \"department\": \"Costume & Make-Up\", \"gender\": 0, \"id\": 1330570, \"job\": \"Costume Supervisor\", \"name\": \"Carolyn M. Fenton\"}, {\"credit_id\": \"539c4ab6c3a36810da0021f0\", \"department\": \"Costume & Make-Up\", \"gender\": 0, \"id\": 1330574, \"job\": \"Costume Supervisor\", \"name\": \"Beth Koenigsberg\"}, {\"credit_id\": \"54491ab70e0a267480001ba2\", \"department\": \"Art\", \"gender\": 0, \"id\": 1336191, \"job\": \"Set Designer\", \"name\": \"Sam Page\"}, {\"credit_id\": \"544919d9c3a3680fc30018bd\", \"department\": \"Art\", \"gender\": 0, \"id\": 1339441, \"job\": \"Set Designer\", \"name\": \"Tex Kadonaga\"}, {\"credit_id\": \"54491cf50e0a267483001b0c\", \"department\": \"Editing\", \"gender\": 0, \"id\": 1352422, \"job\": \"Dialogue Editor\", \"name\": \"Kim Foscato\"}, {\"credit_id\": \"544919f40e0a26748c001b09\", \"department\": \"Art\", \"gender\": 0, \"id\": 1352962, \"job\": \"Set Designer\", \"name\": \"Tammy S. Lee\"}, {\"credit_id\": \"5495a115c3a3680ff5002d71\", \"department\": \"Crew\", \"gender\": 0, \"id\": 1357070, \"job\": \"Transportation Coordinator\", \"name\": \"Denny Caira\"}, {\"credit_id\": \"5495a12f92514130fc002e94\", \"department\": \"Crew\", \"gender\": 0, \"id\": 1357071, \"job\": \"Transportation Coordinator\", \"name\": \"James Waitkus\"}, {\"credit_id\": \"5495976fc3a36811530026b0\", \"department\": \"Sound\", \"gender\": 0, \"id\": 1360103, \"job\": \"Supervising Sound Editor\", \"name\": \"Addison Teague\"}, {\"credit_id\": \"54491837c3a3680fb1001c5a\", \"department\": \"Art\", \"gender\": 2, \"id\": 1376887, \"job\": \"Set Designer\", \"name\": \"C. Scott Baker\"}, {\"credit_id\": \"54491878c3a3680fb4001c9d\", \"department\": \"Art\", \"gender\": 0, \"id\": 1376888, \"job\": \"Set Designer\", \"name\": \"Luke Caska\"}, {\"credit_id\": \"544918dac3a3680fa5001ae0\", \"department\": \"Art\", \"gender\": 0, \"id\": 1376889, \"job\": \"Set Designer\", \"name\": \"David Chow\"}, {\"credit_id\": \"544919110e0a267486001b68\", \"department\": \"Art\", \"gender\": 0, \"id\": 1376890, \"job\": \"Set Designer\", \"name\": \"Jonathan Dyer\"}, {\"credit_id\": \"54491967c3a3680faa001b5e\", \"department\": \"Art\", \"gender\": 0, \"id\": 1376891, \"job\": \"Set Designer\", \"name\": \"Joseph Hiura\"}, {\"credit_id\": \"54491997c3a3680fb1001c8a\", \"department\": \"Art\", \"gender\": 0, \"id\": 1376892, \"job\": \"Art Department Coordinator\", \"name\": \"Rebecca Jellie\"}, {\"credit_id\": \"544919ba0e0a26748f001b42\", \"department\": \"Art\", \"gender\": 0, \"id\": 1376893, \"job\": \"Set Designer\", \"name\": \"Robert Andrew Johnson\"}, {\"credit_id\": \"54491b1dc3a3680faa001b8c\", \"department\": \"Art\", \"gender\": 0, \"id\": 1376895, \"job\": \"Assistant Art Director\", \"name\": \"Mike Stassi\"}, {\"credit_id\": \"54491b79c3a3680fbb001826\", \"department\": \"Art\", \"gender\": 0, \"id\": 1376897, \"job\": \"Construction Coordinator\", \"name\": \"John Villarino\"}, {\"credit_id\": \"54491baec3a3680fb4001ce6\", \"department\": \"Art\", \"gender\": 2, \"id\": 1376898, \"job\": \"Assistant Art Director\", \"name\": \"Jeffrey Wisniewski\"}, {\"credit_id\": \"54491d2fc3a3680fb4001d07\", \"department\": \"Editing\", \"gender\": 0, \"id\": 1376899, \"job\": \"Dialogue Editor\", \"name\": \"Cheryl Nardi\"}, {\"credit_id\": \"54491d86c3a3680fa5001b2f\", \"department\": \"Editing\", \"gender\": 0, \"id\": 1376901, \"job\": \"Dialogue Editor\", \"name\": \"Marshall Winn\"}, {\"credit_id\": \"54491d9dc3a3680faa001bb0\", \"department\": \"Sound\", \"gender\": 0, \"id\": 1376902, \"job\": \"Supervising Sound Editor\", \"name\": \"Gwendolyn Yates Whittle\"}, {\"credit_id\": \"54491dc10e0a267486001bce\", \"department\": \"Sound\", \"gender\": 0, \"id\": 1376903, \"job\": \"Sound Re-Recording Mixer\", \"name\": \"William Stein\"}, {\"credit_id\": \"54491f500e0a26747c001c07\", \"department\": \"Crew\", \"gender\": 0, \"id\": 1376909, \"job\": \"Choreographer\", \"name\": \"Lula Washington\"}, {\"credit_id\": \"549599239251412c4e002a2e\", \"department\": \"Visual Effects\", \"gender\": 0, \"id\": 1391692, \"job\": \"Visual Effects Producer\", \"name\": \"Chris Del Conte\"}, {\"credit_id\": \"54959d54c3a36831b8001d9a\", \"department\": \"Visual Effects\", \"gender\": 2, \"id\": 1391695, \"job\": \"Visual Effects Supervisor\", \"name\": \"R. Christopher White\"}, {\"credit_id\": \"54959bdf9251412c4e002a66\", \"department\": \"Visual Effects\", \"gender\": 0, \"id\": 1394070, \"job\": \"Visual Effects Supervisor\", \"name\": \"Dan Lemmon\"}, {\"credit_id\": \"5495971d92514132ed002922\", \"department\": \"Sound\", \"gender\": 0, \"id\": 1394129, \"job\": \"Sound Effects Editor\", \"name\": \"Tim Nielsen\"}, {\"credit_id\": \"5592b25792514152cc0011aa\", \"department\": \"Crew\", \"gender\": 0, \"id\": 1394286, \"job\": \"CG Supervisor\", \"name\": \"Michael Mulholland\"}, {\"credit_id\": \"54959a329251416e2b004355\", \"department\": \"Crew\", \"gender\": 0, \"id\": 1394750, \"job\": \"Visual Effects Editor\", \"name\": \"Thomas Nittmann\"}, {\"credit_id\": \"54959d6dc3a3686ae9004401\", \"department\": \"Visual Effects\", \"gender\": 0, \"id\": 1394755, \"job\": \"Visual Effects Supervisor\", \"name\": \"Edson Williams\"}, {\"credit_id\": \"5495a08fc3a3686ae300441c\", \"department\": \"Editing\", \"gender\": 0, \"id\": 1394953, \"job\": \"Digital Intermediate\", \"name\": \"Christine Carr\"}, {\"credit_id\": \"55402d659251413d6d000249\", \"department\": \"Visual Effects\", \"gender\": 0, \"id\": 1395269, \"job\": \"Visual Effects Supervisor\", \"name\": \"John Bruno\"}, {\"credit_id\": \"54959e7b9251416e1e003f3e\", \"department\": \"Camera\", \"gender\": 0, \"id\": 1398970, \"job\": \"Steadicam Operator\", \"name\": \"David Emmerichs\"}, {\"credit_id\": \"54959734c3a3686ae10045e0\", \"department\": \"Sound\", \"gender\": 0, \"id\": 1400906, \"job\": \"Sound Effects Editor\", \"name\": \"Christopher Scarabosio\"}, {\"credit_id\": \"549595dd92514130fc002d79\", \"department\": \"Production\", \"gender\": 0, \"id\": 1401784, \"job\": \"Production Supervisor\", \"name\": \"Jennifer Teves\"}, {\"credit_id\": \"549596009251413af70028cc\", \"department\": \"Production\", \"gender\": 0, \"id\": 1401785, \"job\": \"Production Manager\", \"name\": \"Brigitte Yorke\"}, {\"credit_id\": \"549596e892514130fc002d99\", \"department\": \"Sound\", \"gender\": 0, \"id\": 1401786, \"job\": \"Sound Effects Editor\", \"name\": \"Ken Fischer\"}, {\"credit_id\": \"549598229251412c4e002a1c\", \"department\": \"Crew\", \"gender\": 0, \"id\": 1401787, \"job\": \"Special Effects Coordinator\", \"name\": \"Iain Hutton\"}, {\"credit_id\": \"549598349251416e2b00432b\", \"department\": \"Crew\", \"gender\": 0, \"id\": 1401788, \"job\": \"Special Effects Coordinator\", \"name\": \"Steve Ingram\"}, {\"credit_id\": \"54959905c3a3686ae3004324\", \"department\": \"Visual Effects\", \"gender\": 0, \"id\": 1401789, \"job\": \"Visual Effects Producer\", \"name\": \"Joyce Cox\"}, {\"credit_id\": \"5495994b92514132ed002951\", \"department\": \"Visual Effects\", \"gender\": 0, \"id\": 1401790, \"job\": \"Visual Effects Producer\", \"name\": \"Jenny Foster\"}, {\"credit_id\": \"549599cbc3a3686ae1004613\", \"department\": \"Crew\", \"gender\": 0, \"id\": 1401791, \"job\": \"Visual Effects Editor\", \"name\": \"Christopher Marino\"}, {\"credit_id\": \"549599f2c3a3686ae100461e\", \"department\": \"Crew\", \"gender\": 0, \"id\": 1401792, \"job\": \"Visual Effects Editor\", \"name\": \"Jim Milton\"}, {\"credit_id\": \"54959a51c3a3686af3003eb5\", \"department\": \"Visual Effects\", \"gender\": 0, \"id\": 1401793, \"job\": \"Visual Effects Producer\", \"name\": \"Cyndi Ochs\"}, {\"credit_id\": \"54959a7cc3a36811530026f4\", \"department\": \"Crew\", \"gender\": 0, \"id\": 1401794, \"job\": \"Visual Effects Editor\", \"name\": \"Lucas Putnam\"}, {\"credit_id\": \"54959b91c3a3680ff5002cb4\", \"department\": \"Visual Effects\", \"gender\": 0, \"id\": 1401795, \"job\": \"Visual Effects Supervisor\", \"name\": \"Anthony \\'Max\\' Ivins\"}, {\"credit_id\": \"54959bb69251412c4e002a5f\", \"department\": \"Visual Effects\", \"gender\": 0, \"id\": 1401796, \"job\": \"Visual Effects Supervisor\", \"name\": \"John Knoll\"}, {\"credit_id\": \"54959cbbc3a3686ae3004391\", \"department\": \"Visual Effects\", \"gender\": 2, \"id\": 1401799, \"job\": \"Visual Effects Supervisor\", \"name\": \"Eric Saindon\"}, {\"credit_id\": \"54959d06c3a3686ae90043f6\", \"department\": \"Visual Effects\", \"gender\": 0, \"id\": 1401800, \"job\": \"Visual Effects Supervisor\", \"name\": \"Wayne Stables\"}, {\"credit_id\": \"54959d259251416e1e003f11\", \"department\": \"Visual Effects\", \"gender\": 0, \"id\": 1401801, \"job\": \"Visual Effects Supervisor\", \"name\": \"David Stinnett\"}, {\"credit_id\": \"54959db49251413af7002975\", \"department\": \"Visual Effects\", \"gender\": 0, \"id\": 1401803, \"job\": \"Visual Effects Supervisor\", \"name\": \"Guy Williams\"}, {\"credit_id\": \"54959de4c3a3681153002750\", \"department\": \"Crew\", \"gender\": 0, \"id\": 1401804, \"job\": \"Stunt Coordinator\", \"name\": \"Stuart Thorp\"}, {\"credit_id\": \"54959ef2c3a3680fc60027f2\", \"department\": \"Lighting\", \"gender\": 0, \"id\": 1401805, \"job\": \"Best Boy Electric\", \"name\": \"Giles Coburn\"}, {\"credit_id\": \"54959f07c3a3680fc60027f9\", \"department\": \"Camera\", \"gender\": 2, \"id\": 1401806, \"job\": \"Still Photographer\", \"name\": \"Mark Fellman\"}, {\"credit_id\": \"54959f47c3a3681153002774\", \"department\": \"Lighting\", \"gender\": 0, \"id\": 1401807, \"job\": \"Lighting Technician\", \"name\": \"Scott Sprague\"}, {\"credit_id\": \"54959f8cc3a36831b8001df2\", \"department\": \"Visual Effects\", \"gender\": 0, \"id\": 1401808, \"job\": \"Animation Director\", \"name\": \"Jeremy Hollobon\"}, {\"credit_id\": \"54959fa0c3a36831b8001dfb\", \"department\": \"Visual Effects\", \"gender\": 0, \"id\": 1401809, \"job\": \"Animation Director\", \"name\": \"Orlando Meunier\"}, {\"credit_id\": \"54959fb6c3a3686af3003f54\", \"department\": \"Visual Effects\", \"gender\": 0, \"id\": 1401810, \"job\": \"Animation Director\", \"name\": \"Taisuke Tanimura\"}, {\"credit_id\": \"54959fd2c3a36831b8001e02\", \"department\": \"Costume & Make-Up\", \"gender\": 0, \"id\": 1401812, \"job\": \"Set Costumer\", \"name\": \"Lilia Mishel Acevedo\"}, {\"credit_id\": \"54959ff9c3a3686ae300440c\", \"department\": \"Costume & Make-Up\", \"gender\": 0, \"id\": 1401814, \"job\": \"Set Costumer\", \"name\": \"Alejandro M. Hernandez\"}, {\"credit_id\": \"5495a0ddc3a3686ae10046fe\", \"department\": \"Editing\", \"gender\": 0, \"id\": 1401815, \"job\": \"Digital Intermediate\", \"name\": \"Marvin Hall\"}, {\"credit_id\": \"5495a1f7c3a3686ae3004443\", \"department\": \"Production\", \"gender\": 0, \"id\": 1401816, \"job\": \"Publicist\", \"name\": \"Judy Alley\"}, {\"credit_id\": \"5592b29fc3a36869d100002f\", \"department\": \"Crew\", \"gender\": 0, \"id\": 1418381, \"job\": \"CG Supervisor\", \"name\": \"Mike Perry\"}, {\"credit_id\": \"5592b23a9251415df8001081\", \"department\": \"Crew\", \"gender\": 0, \"id\": 1426854, \"job\": \"CG Supervisor\", \"name\": \"Andrew Morley\"}, {\"credit_id\": \"55491e1192514104c40002d8\", \"department\": \"Art\", \"gender\": 0, \"id\": 1438901, \"job\": \"Conceptual Design\", \"name\": \"Seth Engstrom\"}, {\"credit_id\": \"5525d5809251417276002b06\", \"department\": \"Crew\", \"gender\": 0, \"id\": 1447362, \"job\": \"Visual Effects Art Director\", \"name\": \"Eric Oliver\"}, {\"credit_id\": \"554427ca925141586500312a\", \"department\": \"Visual Effects\", \"gender\": 0, \"id\": 1447503, \"job\": \"Modeling\", \"name\": \"Matsune Suzuki\"}, {\"credit_id\": \"551906889251415aab001c88\", \"department\": \"Art\", \"gender\": 0, \"id\": 1447524, \"job\": \"Art Department Manager\", \"name\": \"Paul Tobin\"}, {\"credit_id\": \"5592af8492514152cc0010de\", \"department\": \"Costume & Make-Up\", \"gender\": 0, \"id\": 1452643, \"job\": \"Hairstylist\", \"name\": \"Roxane Griffin\"}, {\"credit_id\": \"553d3c109251415852001318\", \"department\": \"Lighting\", \"gender\": 0, \"id\": 1453938, \"job\": \"Lighting Artist\", \"name\": \"Arun Ram-Mohan\"}, {\"credit_id\": \"5592af4692514152d5001355\", \"department\": \"Costume & Make-Up\", \"gender\": 0, \"id\": 1457305, \"job\": \"Makeup Artist\", \"name\": \"Georgia Lockhart-Adams\"}, {\"credit_id\": \"5592b2eac3a36877470012a5\", \"department\": \"Crew\", \"gender\": 0, \"id\": 1466035, \"job\": \"CG Supervisor\", \"name\": \"Thrain Shadbolt\"}, {\"credit_id\": \"5592b032c3a36877450015f1\", \"department\": \"Crew\", \"gender\": 0, \"id\": 1483220, \"job\": \"CG Supervisor\", \"name\": \"Brad Alexander\"}, {\"credit_id\": \"5592b05592514152d80012f6\", \"department\": \"Crew\", \"gender\": 0, \"id\": 1483221, \"job\": \"CG Supervisor\", \"name\": \"Shadi Almassizadeh\"}, {\"credit_id\": \"5592b090c3a36877570010b5\", \"department\": \"Crew\", \"gender\": 0, \"id\": 1483222, \"job\": \"CG Supervisor\", \"name\": \"Simon Clutterbuck\"}, {\"credit_id\": \"5592b0dbc3a368774b00112c\", \"department\": \"Crew\", \"gender\": 0, \"id\": 1483223, \"job\": \"CG Supervisor\", \"name\": \"Graeme Demmocks\"}, {\"credit_id\": \"5592b0fe92514152db0010c1\", \"department\": \"Crew\", \"gender\": 0, \"id\": 1483224, \"job\": \"CG Supervisor\", \"name\": \"Adrian Fernandes\"}, {\"credit_id\": \"5592b11f9251415df8001059\", \"department\": \"Crew\", \"gender\": 0, \"id\": 1483225, \"job\": \"CG Supervisor\", \"name\": \"Mitch Gates\"}, {\"credit_id\": \"5592b15dc3a3687745001645\", \"department\": \"Crew\", \"gender\": 0, \"id\": 1483226, \"job\": \"CG Supervisor\", \"name\": \"Jerry Kung\"}, {\"credit_id\": \"5592b18e925141645a0004ae\", \"department\": \"Crew\", \"gender\": 0, \"id\": 1483227, \"job\": \"CG Supervisor\", \"name\": \"Andy Lomas\"}, {\"credit_id\": \"5592b1bfc3a368775d0010e7\", \"department\": \"Crew\", \"gender\": 0, \"id\": 1483228, \"job\": \"CG Supervisor\", \"name\": \"Sebastian Marino\"}, {\"credit_id\": \"5592b2049251415df8001078\", \"department\": \"Crew\", \"gender\": 0, \"id\": 1483229, \"job\": \"CG Supervisor\", \"name\": \"Matthias Menz\"}, {\"credit_id\": \"5592b27b92514152d800136a\", \"department\": \"Crew\", \"gender\": 0, \"id\": 1483230, \"job\": \"CG Supervisor\", \"name\": \"Sergei Nevshupov\"}, {\"credit_id\": \"5592b2c3c3a36869e800003c\", \"department\": \"Crew\", \"gender\": 0, \"id\": 1483231, \"job\": \"CG Supervisor\", \"name\": \"Philippe Rebours\"}, {\"credit_id\": \"5592b317c3a36877470012af\", \"department\": \"Crew\", \"gender\": 0, \"id\": 1483232, \"job\": \"CG Supervisor\", \"name\": \"Michael Takarangi\"}, {\"credit_id\": \"5592b345c3a36877470012bb\", \"department\": \"Crew\", \"gender\": 0, \"id\": 1483233, \"job\": \"CG Supervisor\", \"name\": \"David Weitzberg\"}, {\"credit_id\": \"5592b37cc3a368775100113b\", \"department\": \"Crew\", \"gender\": 0, \"id\": 1483234, \"job\": \"CG Supervisor\", \"name\": \"Ben White\"}, {\"credit_id\": \"573c8e2f9251413f5d000094\", \"department\": \"Crew\", \"gender\": 1, \"id\": 1621932, \"job\": \"Stunts\", \"name\": \"Min Windle\"}]'"
      ]
     },
     "execution_count": 27,
     "metadata": {},
     "output_type": "execute_result"
    }
   ],
   "source": [
    "df['crew'][0]"
   ]
  },
  {
   "cell_type": "code",
   "execution_count": 28,
   "metadata": {},
   "outputs": [],
   "source": [
    "import ast\n",
    "# ast for converting string to a list\n",
    "\n",
    "\n",
    "\n",
    "def director(obj):\n",
    "    try:\n",
    "        # Try to safely evaluate the string as a list\n",
    "        return ast.literal_eval(obj)\n",
    "    except (ValueError, SyntaxError):\n",
    "        # If it's already a list, return as is\n",
    "        return obj\n",
    "\n",
    "def director(obj):\n",
    "    L = []\n",
    "    for i in ast.literal_eval(obj):\n",
    "        if i['job'] == 'Director':\n",
    "            L.append(i['name'])\n",
    "            break\n",
    "    return L"
   ]
  },
  {
   "cell_type": "code",
   "execution_count": 29,
   "metadata": {},
   "outputs": [],
   "source": [
    "df['crew']= df['crew'].apply(director) "
   ]
  },
  {
   "cell_type": "code",
   "execution_count": 30,
   "metadata": {},
   "outputs": [
    {
     "data": {
      "text/plain": [
       "0           [James Cameron]\n",
       "1          [Gore Verbinski]\n",
       "2              [Sam Mendes]\n",
       "3       [Christopher Nolan]\n",
       "4          [Andrew Stanton]\n",
       "               ...         \n",
       "4804     [Robert Rodriguez]\n",
       "4805         [Edward Burns]\n",
       "4806          [Scott Smith]\n",
       "4807          [Daniel Hsia]\n",
       "4808     [Brian Herzlinger]\n",
       "Name: crew, Length: 4806, dtype: object"
      ]
     },
     "execution_count": 30,
     "metadata": {},
     "output_type": "execute_result"
    }
   ],
   "source": [
    "df['crew']"
   ]
  },
  {
   "cell_type": "code",
   "execution_count": 33,
   "metadata": {},
   "outputs": [],
   "source": [
    "# Removing spaces between words \n",
    "df['genres'] = df['genres'].apply(lambda x:[i.replace(\" \",\"\") for i in x])\n",
    "df['keywords'] = df['keywords'].apply(lambda x:[i.replace(\" \",\"\") for i in x])\n",
    "df['cast'] = df['cast'].apply(lambda x:[i.replace(\" \",\"\") for i in x])\n",
    "df['crew'] = df['crew'].apply(lambda x:[i.replace(\" \",\"\") for i in x])"
   ]
  },
  {
   "cell_type": "code",
   "execution_count": 37,
   "metadata": {},
   "outputs": [],
   "source": [
    "# Ensure that lists are converted to strings\n",
    "df['tags'] = df['overview'] + df['genres'].apply(lambda x: ' '.join(x) if isinstance(x, list) else str(x)) + \\\n",
    "             df['keywords'].apply(lambda x: ' '.join(x) if isinstance(x, list) else str(x)) + \\\n",
    "             df['cast'].apply(lambda x: ' '.join(x) if isinstance(x, list) else str(x)) + \\\n",
    "             df['crew'].apply(lambda x: ' '.join(x) if isinstance(x, list) else str(x))\n"
   ]
  },
  {
   "cell_type": "code",
   "execution_count": 38,
   "metadata": {},
   "outputs": [],
   "source": [
    "newdf = df[['id' , 'title' , 'tags']] "
   ]
  },
  {
   "cell_type": "code",
   "execution_count": 39,
   "metadata": {},
   "outputs": [
    {
     "data": {
      "text/html": [
       "<div>\n",
       "<style scoped>\n",
       "    .dataframe tbody tr th:only-of-type {\n",
       "        vertical-align: middle;\n",
       "    }\n",
       "\n",
       "    .dataframe tbody tr th {\n",
       "        vertical-align: top;\n",
       "    }\n",
       "\n",
       "    .dataframe thead th {\n",
       "        text-align: right;\n",
       "    }\n",
       "</style>\n",
       "<table border=\"1\" class=\"dataframe\">\n",
       "  <thead>\n",
       "    <tr style=\"text-align: right;\">\n",
       "      <th></th>\n",
       "      <th>id</th>\n",
       "      <th>title</th>\n",
       "      <th>tags</th>\n",
       "    </tr>\n",
       "  </thead>\n",
       "  <tbody>\n",
       "    <tr>\n",
       "      <th>0</th>\n",
       "      <td>19995</td>\n",
       "      <td>Avatar</td>\n",
       "      <td>In the 22nd century, a paraplegic Marine is di...</td>\n",
       "    </tr>\n",
       "    <tr>\n",
       "      <th>1</th>\n",
       "      <td>285</td>\n",
       "      <td>Pirates of the Caribbean: At World's End</td>\n",
       "      <td>Captain Barbossa, long believed to be dead, ha...</td>\n",
       "    </tr>\n",
       "    <tr>\n",
       "      <th>2</th>\n",
       "      <td>206647</td>\n",
       "      <td>Spectre</td>\n",
       "      <td>A cryptic message from Bond’s past sends him o...</td>\n",
       "    </tr>\n",
       "  </tbody>\n",
       "</table>\n",
       "</div>"
      ],
      "text/plain": [
       "       id                                     title  \\\n",
       "0   19995                                    Avatar   \n",
       "1     285  Pirates of the Caribbean: At World's End   \n",
       "2  206647                                   Spectre   \n",
       "\n",
       "                                                tags  \n",
       "0  In the 22nd century, a paraplegic Marine is di...  \n",
       "1  Captain Barbossa, long believed to be dead, ha...  \n",
       "2  A cryptic message from Bond’s past sends him o...  "
      ]
     },
     "execution_count": 39,
     "metadata": {},
     "output_type": "execute_result"
    }
   ],
   "source": [
    "newdf.head(3)"
   ]
  },
  {
   "cell_type": "code",
   "execution_count": 40,
   "metadata": {},
   "outputs": [
    {
     "data": {
      "text/plain": [
       "'In the 22nd century, a paraplegic Marine is dispatched to the moon Pandora on a unique mission, but becomes torn between following orders and protecting an alien civilization.Action Adventure Fantasy ScienceFictioncultureclash future spacewar spacecolony society spacetravel futuristic romance space alien tribe alienplanet cgi marine soldier battle loveaffair antiwar powerrelations mindandsoul 3dSamWorthington ZoeSaldana SigourneyWeaverJamesCameron'"
      ]
     },
     "execution_count": 40,
     "metadata": {},
     "output_type": "execute_result"
    }
   ],
   "source": [
    "newdf['tags'][0]"
   ]
  },
  {
   "cell_type": "code",
   "execution_count": 42,
   "metadata": {},
   "outputs": [
    {
     "name": "stderr",
     "output_type": "stream",
     "text": [
      "C:\\Users\\Track Computers\\AppData\\Local\\Temp\\ipykernel_4952\\3039832596.py:1: SettingWithCopyWarning: \n",
      "A value is trying to be set on a copy of a slice from a DataFrame.\n",
      "Try using .loc[row_indexer,col_indexer] = value instead\n",
      "\n",
      "See the caveats in the documentation: https://pandas.pydata.org/pandas-docs/stable/user_guide/indexing.html#returning-a-view-versus-a-copy\n",
      "  newdf['tags'] = newdf['tags'].apply(lambda x:x.lower())\n"
     ]
    }
   ],
   "source": [
    "newdf['tags'] = newdf['tags'].apply(lambda x:x.lower())"
   ]
  },
  {
   "cell_type": "code",
   "execution_count": 43,
   "metadata": {},
   "outputs": [
    {
     "data": {
      "text/plain": [
       "'in the 22nd century, a paraplegic marine is dispatched to the moon pandora on a unique mission, but becomes torn between following orders and protecting an alien civilization.action adventure fantasy sciencefictioncultureclash future spacewar spacecolony society spacetravel futuristic romance space alien tribe alienplanet cgi marine soldier battle loveaffair antiwar powerrelations mindandsoul 3dsamworthington zoesaldana sigourneyweaverjamescameron'"
      ]
     },
     "execution_count": 43,
     "metadata": {},
     "output_type": "execute_result"
    }
   ],
   "source": [
    "newdf['tags'][0]"
   ]
  },
  {
   "cell_type": "code",
   "execution_count": 55,
   "metadata": {},
   "outputs": [
    {
     "name": "stdout",
     "output_type": "stream",
     "text": [
      "Collecting scikit-learn\n",
      "  Using cached scikit_learn-1.6.0-cp312-cp312-win_amd64.whl.metadata (15 kB)\n",
      "Requirement already satisfied: numpy>=1.19.5 in f:\\ds\\projects\\movie_recommendation_system\\venv\\lib\\site-packages (from scikit-learn) (2.2.1)\n",
      "Requirement already satisfied: scipy>=1.6.0 in f:\\ds\\projects\\movie_recommendation_system\\venv\\lib\\site-packages (from scikit-learn) (1.15.0)\n",
      "Collecting joblib>=1.2.0 (from scikit-learn)\n",
      "  Using cached joblib-1.4.2-py3-none-any.whl.metadata (5.4 kB)\n",
      "Requirement already satisfied: threadpoolctl>=3.1.0 in f:\\ds\\projects\\movie_recommendation_system\\venv\\lib\\site-packages (from scikit-learn) (3.5.0)\n",
      "Using cached scikit_learn-1.6.0-cp312-cp312-win_amd64.whl (11.1 MB)\n",
      "Using cached joblib-1.4.2-py3-none-any.whl (301 kB)\n",
      "Installing collected packages: joblib, scikit-learn\n",
      "Successfully installed joblib-1.4.2 scikit-learn-1.6.0\n",
      "Note: you may need to restart the kernel to use updated packages.\n"
     ]
    },
    {
     "name": "stderr",
     "output_type": "stream",
     "text": [
      "\n",
      "[notice] A new release of pip is available: 24.2 -> 24.3.1\n",
      "[notice] To update, run: python.exe -m pip install --upgrade pip\n"
     ]
    }
   ],
   "source": [
    "%pip install scikit-learn"
   ]
  },
  {
   "cell_type": "code",
   "execution_count": 56,
   "metadata": {},
   "outputs": [],
   "source": [
    "from sklearn.feature_extraction.text import CountVectorizer\n",
    "\n",
    "cv = CountVectorizer(max_features= 5000 , stop_words= 'english')"
   ]
  },
  {
   "cell_type": "code",
   "execution_count": 58,
   "metadata": {},
   "outputs": [],
   "source": [
    "vectors = cv.fit_transform(newdf['tags']).toarray()"
   ]
  },
  {
   "cell_type": "code",
   "execution_count": 59,
   "metadata": {},
   "outputs": [
    {
     "data": {
      "text/plain": [
       "array([[0, 0, 0, ..., 0, 0, 0],\n",
       "       [0, 0, 0, ..., 0, 0, 0],\n",
       "       [0, 0, 0, ..., 0, 0, 0],\n",
       "       ...,\n",
       "       [0, 0, 0, ..., 0, 0, 0],\n",
       "       [0, 0, 0, ..., 0, 0, 0],\n",
       "       [0, 0, 0, ..., 0, 0, 0]], shape=(4806, 5000))"
      ]
     },
     "execution_count": 59,
     "metadata": {},
     "output_type": "execute_result"
    }
   ],
   "source": [
    "vectors"
   ]
  },
  {
   "cell_type": "code",
   "execution_count": 60,
   "metadata": {},
   "outputs": [
    {
     "data": {
      "text/plain": [
       "array([0, 0, 0, ..., 0, 0, 0], shape=(5000,))"
      ]
     },
     "execution_count": 60,
     "metadata": {},
     "output_type": "execute_result"
    }
   ],
   "source": [
    "vectors[0]"
   ]
  },
  {
   "cell_type": "code",
   "execution_count": 62,
   "metadata": {},
   "outputs": [
    {
     "data": {
      "text/plain": [
       "5000"
      ]
     },
     "execution_count": 62,
     "metadata": {},
     "output_type": "execute_result"
    }
   ],
   "source": [
    "len(cv.get_feature_names_out())"
   ]
  },
  {
   "cell_type": "code",
   "execution_count": 63,
   "metadata": {},
   "outputs": [
    {
     "name": "stdout",
     "output_type": "stream",
     "text": [
      "Collecting nltk\n",
      "  Using cached nltk-3.9.1-py3-none-any.whl.metadata (2.9 kB)\n",
      "Collecting click (from nltk)\n",
      "  Using cached click-8.1.8-py3-none-any.whl.metadata (2.3 kB)\n",
      "Requirement already satisfied: joblib in f:\\ds\\projects\\movie_recommendation_system\\venv\\lib\\site-packages (from nltk) (1.4.2)\n",
      "Collecting regex>=2021.8.3 (from nltk)\n",
      "  Using cached regex-2024.11.6-cp312-cp312-win_amd64.whl.metadata (41 kB)\n",
      "Collecting tqdm (from nltk)\n",
      "  Using cached tqdm-4.67.1-py3-none-any.whl.metadata (57 kB)\n",
      "Requirement already satisfied: colorama in f:\\ds\\projects\\movie_recommendation_system\\venv\\lib\\site-packages (from click->nltk) (0.4.6)\n",
      "Using cached nltk-3.9.1-py3-none-any.whl (1.5 MB)\n",
      "Using cached regex-2024.11.6-cp312-cp312-win_amd64.whl (273 kB)\n",
      "Using cached click-8.1.8-py3-none-any.whl (98 kB)\n",
      "Using cached tqdm-4.67.1-py3-none-any.whl (78 kB)\n",
      "Installing collected packages: tqdm, regex, click, nltk\n",
      "Successfully installed click-8.1.8 nltk-3.9.1 regex-2024.11.6 tqdm-4.67.1\n",
      "Note: you may need to restart the kernel to use updated packages.\n"
     ]
    },
    {
     "name": "stderr",
     "output_type": "stream",
     "text": [
      "\n",
      "[notice] A new release of pip is available: 24.2 -> 24.3.1\n",
      "[notice] To update, run: python.exe -m pip install --upgrade pip\n"
     ]
    }
   ],
   "source": [
    "# %pip install nltk"
   ]
  },
  {
   "cell_type": "code",
   "execution_count": 64,
   "metadata": {},
   "outputs": [],
   "source": [
    "from nltk.stem.porter import PorterStemmer\n",
    "ps = PorterStemmer()"
   ]
  },
  {
   "cell_type": "code",
   "execution_count": 65,
   "metadata": {},
   "outputs": [],
   "source": [
    "def stem(text):\n",
    "    y= []\n",
    "    for i in text.split():\n",
    "        y.append(ps.stem(i))\n",
    "\n",
    "    return \" \".join(y)\n"
   ]
  },
  {
   "cell_type": "code",
   "execution_count": 67,
   "metadata": {},
   "outputs": [
    {
     "name": "stderr",
     "output_type": "stream",
     "text": [
      "C:\\Users\\Track Computers\\AppData\\Local\\Temp\\ipykernel_4952\\273654827.py:1: SettingWithCopyWarning: \n",
      "A value is trying to be set on a copy of a slice from a DataFrame.\n",
      "Try using .loc[row_indexer,col_indexer] = value instead\n",
      "\n",
      "See the caveats in the documentation: https://pandas.pydata.org/pandas-docs/stable/user_guide/indexing.html#returning-a-view-versus-a-copy\n",
      "  newdf['tags']= newdf['tags'].apply(stem)\n"
     ]
    }
   ],
   "source": [
    "newdf['tags']= newdf['tags'].apply(stem)"
   ]
  },
  {
   "cell_type": "code",
   "execution_count": 68,
   "metadata": {},
   "outputs": [],
   "source": [
    "from sklearn.feature_extraction.text import CountVectorizer\n",
    "\n",
    "cv = CountVectorizer(max_features= 5000 , stop_words= 'english')"
   ]
  },
  {
   "cell_type": "code",
   "execution_count": 69,
   "metadata": {},
   "outputs": [],
   "source": [
    "vectors = cv.fit_transform(newdf['tags']).toarray()"
   ]
  },
  {
   "cell_type": "code",
   "execution_count": 70,
   "metadata": {},
   "outputs": [
    {
     "data": {
      "text/plain": [
       "array([[0, 0, 0, ..., 0, 0, 0],\n",
       "       [0, 0, 0, ..., 0, 0, 0],\n",
       "       [0, 0, 0, ..., 0, 0, 0],\n",
       "       ...,\n",
       "       [0, 0, 0, ..., 0, 0, 0],\n",
       "       [0, 0, 0, ..., 0, 0, 0],\n",
       "       [0, 0, 0, ..., 0, 0, 0]], shape=(4806, 5000))"
      ]
     },
     "execution_count": 70,
     "metadata": {},
     "output_type": "execute_result"
    }
   ],
   "source": [
    "vectors"
   ]
  },
  {
   "cell_type": "code",
   "execution_count": 74,
   "metadata": {},
   "outputs": [
    {
     "name": "stdout",
     "output_type": "stream",
     "text": [
      "['000' '007' '10' ... 'zombies' 'zone' 'zoo']\n"
     ]
    }
   ],
   "source": [
    "print(cv.get_feature_names_out())"
   ]
  },
  {
   "cell_type": "code",
   "execution_count": 75,
   "metadata": {},
   "outputs": [],
   "source": [
    "# Finding Distance of different movies from each other\n",
    "\n",
    "from sklearn.metrics.pairwise import cosine_similarity"
   ]
  },
  {
   "cell_type": "code",
   "execution_count": 77,
   "metadata": {},
   "outputs": [],
   "source": [
    "similarity = cosine_similarity(vectors)"
   ]
  },
  {
   "cell_type": "code",
   "execution_count": 78,
   "metadata": {},
   "outputs": [
    {
     "data": {
      "text/plain": [
       "array([1.        , 0.06700252, 0.09869275, ..., 0.0492366 , 0.        ,\n",
       "       0.        ], shape=(4806,))"
      ]
     },
     "execution_count": 78,
     "metadata": {},
     "output_type": "execute_result"
    }
   ],
   "source": [
    "similarity[0]"
   ]
  },
  {
   "cell_type": "code",
   "execution_count": 106,
   "metadata": {},
   "outputs": [],
   "source": [
    "def recommend(movie):\n",
    "    movie_index = newdf[newdf['title'] == movie].index[0]\n",
    "    distances = similarity[movie_index]\n",
    "    movies_list = sorted(list(enumerate(distances)),reverse=True, key=lambda x:x[1])[1:6]\n",
    "\n",
    "    for i in movies_list:\n",
    "        print(newdf.iloc[i[0]].title)\n",
    "    "
   ]
  },
  {
   "cell_type": "code",
   "execution_count": 107,
   "metadata": {},
   "outputs": [
    {
     "name": "stdout",
     "output_type": "stream",
     "text": [
      "Falcon Rising\n",
      "Aliens vs Predator: Requiem\n",
      "Predators\n",
      "Battle: Los Angeles\n",
      "Independence Day\n"
     ]
    }
   ],
   "source": [
    "recommend(\"Avatar\")"
   ]
  },
  {
   "cell_type": "code",
   "execution_count": 103,
   "metadata": {},
   "outputs": [
    {
     "data": {
      "text/plain": [
       "'Aliens vs Predator: Requiem'"
      ]
     },
     "execution_count": 103,
     "metadata": {},
     "output_type": "execute_result"
    }
   ],
   "source": [
    "newdf.iloc[1214].title"
   ]
  },
  {
   "cell_type": "code",
   "execution_count": 83,
   "metadata": {},
   "outputs": [
    {
     "data": {
      "text/plain": [
       "np.int64(119)"
      ]
     },
     "execution_count": 83,
     "metadata": {},
     "output_type": "execute_result"
    }
   ],
   "source": [
    "newdf[newdf['title'] == 'Batman Begins'].index[0]"
   ]
  },
  {
   "cell_type": "code",
   "execution_count": 90,
   "metadata": {},
   "outputs": [
    {
     "data": {
      "text/plain": [
       "[np.float64(0.21110016546037452),\n",
       " np.float64(0.2174908991308148),\n",
       " np.float64(0.23354968324845693),\n",
       " np.float64(0.24140227479263382),\n",
       " np.float64(0.24375747470904352),\n",
       " np.float64(0.24375747470904355),\n",
       " np.float64(0.2541521226262073),\n",
       " np.float64(0.2704813730373557),\n",
       " np.float64(0.2791452631195413)]"
      ]
     },
     "execution_count": 90,
     "metadata": {},
     "output_type": "execute_result"
    }
   ],
   "source": [
    "sorted(similarity[0])[-10:-1]# Last 10 Records "
   ]
  },
  {
   "cell_type": "code",
   "execution_count": 91,
   "metadata": {},
   "outputs": [
    {
     "data": {
      "text/plain": [
       "[np.float64(1.0000000000000002),\n",
       " np.float64(0.2791452631195413),\n",
       " np.float64(0.2704813730373557),\n",
       " np.float64(0.2541521226262073),\n",
       " np.float64(0.24375747470904355),\n",
       " np.float64(0.24375747470904352),\n",
       " np.float64(0.24140227479263382),\n",
       " np.float64(0.23354968324845693),\n",
       " np.float64(0.2174908991308148),\n",
       " np.float64(0.21110016546037452),\n",
       " np.float64(0.20483662259967567),\n",
       " np.float64(0.20313468644761024),\n",
       " np.float64(0.1939524551505708),\n",
       " np.float64(0.1903045367394629),\n",
       " np.float64(0.18999014891433708),\n",
       " np.float64(0.18951174787165373),\n",
       " np.float64(0.18778101072520811),\n",
       " np.float64(0.1860968420796942),\n",
       " np.float64(0.1860968420796942),\n",
       " np.float64(0.18181818181818185),\n",
       " np.float64(0.18181818181818185),\n",
       " np.float64(0.18164975363768873),\n",
       " np.float64(0.18148850216015697),\n",
       " np.float64(0.1791244302079596),\n",
       " np.float64(0.1765469659009499),\n",
       " np.float64(0.17407765595569785),\n",
       " np.float64(0.17407765595569785),\n",
       " np.float64(0.17170914210964275),\n",
       " np.float64(0.17069718549972973),\n",
       " np.float64(0.17013576402364539),\n",
       " np.float64(0.16888013236829963),\n",
       " np.float64(0.16750630254320203),\n",
       " np.float64(0.16724840200141816),\n",
       " np.float64(0.16514456476895412),\n",
       " np.float64(0.1651445647689541),\n",
       " np.float64(0.16448792373994225),\n",
       " np.float64(0.16412198797244368),\n",
       " np.float64(0.16412198797244365),\n",
       " np.float64(0.16311817434811107),\n",
       " np.float64(0.161627045958809),\n",
       " np.float64(0.161627045958809),\n",
       " np.float64(0.161627045958809),\n",
       " np.float64(0.16116459280507608),\n",
       " np.float64(0.15870392017163082),\n",
       " np.float64(0.15745916432444343),\n",
       " np.float64(0.1574591643244434),\n",
       " np.float64(0.15668213162985495),\n",
       " np.float64(0.15569978883230462),\n",
       " np.float64(0.15569978883230462),\n",
       " np.float64(0.1556997888323046),\n",
       " np.float64(0.15386436372416593),\n",
       " np.float64(0.15386436372416593),\n",
       " np.float64(0.15352206215727943),\n",
       " np.float64(0.1523510148357077),\n",
       " np.float64(0.1523179489612356),\n",
       " np.float64(0.1519474352795173),\n",
       " np.float64(0.15075567228888184),\n",
       " np.float64(0.14920941939059815),\n",
       " np.float64(0.1484539238050411),\n",
       " np.float64(0.1484539238050411),\n",
       " np.float64(0.14770978917519928),\n",
       " np.float64(0.14712247158412492),\n",
       " np.float64(0.14712247158412492),\n",
       " np.float64(0.14519080172812557),\n",
       " np.float64(0.14506471329641488),\n",
       " np.float64(0.14213381090374033),\n",
       " np.float64(0.1411956236812263),\n",
       " np.float64(0.13957263155977065),\n",
       " np.float64(0.13957263155977065),\n",
       " np.float64(0.13957263155977065),\n",
       " np.float64(0.13957263155977065),\n",
       " np.float64(0.1392621247645583),\n",
       " np.float64(0.1365577483997838),\n",
       " np.float64(0.13593181195675924),\n",
       " np.float64(0.1343038273375634),\n",
       " np.float64(0.13400504203456162),\n",
       " np.float64(0.13273296830047474),\n",
       " np.float64(0.13273296830047474),\n",
       " np.float64(0.13121597027036952),\n",
       " np.float64(0.1305582419667734),\n",
       " np.float64(0.1293016367670472),\n",
       " np.float64(0.128564869306645),\n",
       " np.float64(0.12666009927622474),\n",
       " np.float64(0.12666009927622474),\n",
       " np.float64(0.12666009927622474),\n",
       " np.float64(0.12562972690740154),\n",
       " np.float64(0.12562972690740154),\n",
       " np.float64(0.1250610798961445),\n",
       " np.float64(0.1250610798961445),\n",
       " np.float64(0.1250610798961445),\n",
       " np.float64(0.12483755678647186),\n",
       " np.float64(0.12309149097933275),\n",
       " np.float64(0.12309149097933275),\n",
       " np.float64(0.12309149097933275),\n",
       " np.float64(0.12309149097933274),\n",
       " np.float64(0.12309149097933274),\n",
       " np.float64(0.12309149097933274),\n",
       " np.float64(0.12309149097933274),\n",
       " np.float64(0.12187873735452177),\n",
       " np.float64(0.12121212121212123),\n",
       " np.float64(0.12121212121212123),\n",
       " np.float64(0.12121212121212123),\n",
       " np.float64(0.12070113739631691),\n",
       " np.float64(0.11980845957463077),\n",
       " np.float64(0.11980845957463077),\n",
       " np.float64(0.11980845957463077),\n",
       " np.float64(0.11941628680530642),\n",
       " np.float64(0.11891767800211264),\n",
       " np.float64(0.11769797726729994),\n",
       " np.float64(0.11769797726729994),\n",
       " np.float64(0.11677484162422844),\n",
       " np.float64(0.11677484162422844),\n",
       " np.float64(0.11677484162422844),\n",
       " np.float64(0.11677484162422844),\n",
       " np.float64(0.11677484162422844),\n",
       " np.float64(0.11677484162422844),\n",
       " np.float64(0.11677484162422844),\n",
       " np.float64(0.1160517706371319),\n",
       " np.float64(0.1160517706371319),\n",
       " np.float64(0.1160517706371319),\n",
       " np.float64(0.1144727614064285),\n",
       " np.float64(0.1144727614064285),\n",
       " np.float64(0.1144727614064285),\n",
       " np.float64(0.1144727614064285),\n",
       " np.float64(0.1142875802206236),\n",
       " np.float64(0.11396057645963797),\n",
       " np.float64(0.11396057645963797),\n",
       " np.float64(0.11396057645963797),\n",
       " np.float64(0.11396057645963797),\n",
       " np.float64(0.11331490227483418),\n",
       " np.float64(0.11331490227483416),\n",
       " np.float64(0.11295649894498103),\n",
       " np.float64(0.11295649894498103),\n",
       " np.float64(0.11295649894498103),\n",
       " np.float64(0.11149893466761211),\n",
       " np.float64(0.11149893466761211),\n",
       " np.float64(0.11149893466761211),\n",
       " np.float64(0.11149893466761211),\n",
       " np.float64(0.11149893466761211),\n",
       " np.float64(0.11144179967299829),\n",
       " np.float64(0.11134044285378084),\n",
       " np.float64(0.11134044285378084),\n",
       " np.float64(0.11134044285378084),\n",
       " np.float64(0.11134044285378084),\n",
       " np.float64(0.11053942207134548),\n",
       " np.float64(0.11053942207134548),\n",
       " np.float64(0.11009637651263607),\n",
       " np.float64(0.11009637651263607),\n",
       " np.float64(0.11009637651263607),\n",
       " np.float64(0.11009637651263607),\n",
       " np.float64(0.11009637651263607),\n",
       " np.float64(0.11009637651263607),\n",
       " np.float64(0.11009637651263605),\n",
       " np.float64(0.10889310129609417),\n",
       " np.float64(0.10889310129609417),\n",
       " np.float64(0.10889310129609417),\n",
       " np.float64(0.10889310129609417),\n",
       " np.float64(0.10874544956540738),\n",
       " np.float64(0.10874544956540738),\n",
       " np.float64(0.10874544956540738),\n",
       " np.float64(0.10795837927188265),\n",
       " np.float64(0.10744306187005072),\n",
       " np.float64(0.10715994395536398),\n",
       " np.float64(0.10713739108887083),\n",
       " np.float64(0.10660035817780525),\n",
       " np.float64(0.10660035817780525),\n",
       " np.float64(0.10660035817780524),\n",
       " np.float64(0.10618637464037979),\n",
       " np.float64(0.10618637464037979),\n",
       " np.float64(0.10497277621629561),\n",
       " np.float64(0.10497277621629561),\n",
       " np.float64(0.10497277621629561),\n",
       " np.float64(0.10497277621629561),\n",
       " np.float64(0.10497277621629561),\n",
       " np.float64(0.10444659357341872),\n",
       " np.float64(0.10444659357341872),\n",
       " np.float64(0.10379985922153641),\n",
       " np.float64(0.1037998592215364),\n",
       " np.float64(0.1032960845948011),\n",
       " np.float64(0.10266540046786908),\n",
       " np.float64(0.10266540046786908),\n",
       " np.float64(0.10266540046786908),\n",
       " np.float64(0.10241831129983785),\n",
       " np.float64(0.10241831129983785),\n",
       " np.float64(0.10241831129983785),\n",
       " np.float64(0.10241831129983785),\n",
       " np.float64(0.10241831129983785),\n",
       " np.float64(0.10187124277134105),\n",
       " np.float64(0.10156734322380513),\n",
       " np.float64(0.10156734322380513),\n",
       " np.float64(0.10050378152592122),\n",
       " np.float64(0.10050378152592122),\n",
       " np.float64(0.10050378152592122),\n",
       " np.float64(0.10050378152592122),\n",
       " np.float64(0.10050378152592122),\n",
       " np.float64(0.10050378152592122),\n",
       " np.float64(0.10050378152592122),\n",
       " np.float64(0.10050378152592122),\n",
       " np.float64(0.10050378152592121),\n",
       " np.float64(0.10050378152592121),\n",
       " np.float64(0.10050378152592121),\n",
       " np.float64(0.10050378152592121),\n",
       " np.float64(0.09984038297885897),\n",
       " np.float64(0.09947294626039876),\n",
       " np.float64(0.09947294626039876),\n",
       " np.float64(0.09947294626039876),\n",
       " np.float64(0.09947294626039876),\n",
       " np.float64(0.09869275424396534),\n",
       " np.float64(0.09869275424396534),\n",
       " np.float64(0.09869275424396534),\n",
       " np.float64(0.09869275424396534),\n",
       " np.float64(0.09869275424396534),\n",
       " np.float64(0.09869275424396534),\n",
       " np.float64(0.0984731927834662),\n",
       " np.float64(0.0984731927834662),\n",
       " np.float64(0.09750298988361741),\n",
       " np.float64(0.09750298988361741),\n",
       " np.float64(0.0969762275752854),\n",
       " np.float64(0.0969762275752854),\n",
       " np.float64(0.0969762275752854),\n",
       " np.float64(0.0969762275752854),\n",
       " np.float64(0.09656090991705353),\n",
       " np.float64(0.09656090991705353),\n",
       " np.float64(0.09656090991705353),\n",
       " np.float64(0.09656090991705353),\n",
       " np.float64(0.09534625892455922),\n",
       " np.float64(0.09534625892455922),\n",
       " np.float64(0.09534625892455922),\n",
       " np.float64(0.09534625892455922),\n",
       " np.float64(0.09475587393582686),\n",
       " np.float64(0.09389050536260406),\n",
       " np.float64(0.09379580992210838),\n",
       " np.float64(0.09379580992210838),\n",
       " np.float64(0.09379580992210837),\n",
       " np.float64(0.0930484210398471),\n",
       " np.float64(0.0930484210398471),\n",
       " np.float64(0.0930484210398471),\n",
       " np.float64(0.0930484210398471),\n",
       " np.float64(0.0930484210398471),\n",
       " np.float64(0.0930484210398471),\n",
       " np.float64(0.0930484210398471),\n",
       " np.float64(0.0930484210398471),\n",
       " np.float64(0.09231861823449955),\n",
       " np.float64(0.09231861823449955),\n",
       " np.float64(0.09231861823449955),\n",
       " np.float64(0.09231861823449955),\n",
       " np.float64(0.09231861823449955),\n",
       " np.float64(0.0922285951821433),\n",
       " np.float64(0.09143006417649888),\n",
       " np.float64(0.09124148357522649),\n",
       " np.float64(0.09090909090909093),\n",
       " np.float64(0.09090909090909093),\n",
       " np.float64(0.09090909090909093),\n",
       " np.float64(0.09090909090909093),\n",
       " np.float64(0.09090909090909093),\n",
       " np.float64(0.09090909090909093),\n",
       " np.float64(0.09090909090909093),\n",
       " np.float64(0.09090909090909093),\n",
       " np.float64(0.09090909090909093),\n",
       " np.float64(0.09065192181986734),\n",
       " np.float64(0.09065192181986734),\n",
       " np.float64(0.08989331499509894),\n",
       " np.float64(0.08989331499509894),\n",
       " np.float64(0.08989331499509894),\n",
       " np.float64(0.08989331499509894),\n",
       " np.float64(0.08989331499509894),\n",
       " np.float64(0.08989331499509894),\n",
       " np.float64(0.08989331499509894),\n",
       " np.float64(0.08989331499509894),\n",
       " np.float64(0.08989331499509894),\n",
       " np.float64(0.08989331499509894),\n",
       " np.float64(0.08989331499509894),\n",
       " np.float64(0.08989331499509894),\n",
       " np.float64(0.08956221510397981),\n",
       " np.float64(0.08956221510397981),\n",
       " np.float64(0.08956221510397981),\n",
       " np.float64(0.08956221510397981),\n",
       " np.float64(0.08956221510397981),\n",
       " np.float64(0.08956221510397981),\n",
       " np.float64(0.08929995329613664),\n",
       " np.float64(0.08915343973839863),\n",
       " np.float64(0.08915343973839863),\n",
       " np.float64(0.08843153765707638),\n",
       " np.float64(0.08827348295047496),\n",
       " np.float64(0.08827348295047496),\n",
       " np.float64(0.08827348295047496),\n",
       " np.float64(0.08827348295047496),\n",
       " np.float64(0.08827348295047496),\n",
       " np.float64(0.08827348295047496),\n",
       " np.float64(0.08827348295047496),\n",
       " np.float64(0.08827348295047496),\n",
       " np.float64(0.08827348295047496),\n",
       " np.float64(0.08827348295047496),\n",
       " np.float64(0.08772689266130253),\n",
       " np.float64(0.08772689266130253),\n",
       " np.float64(0.08772689266130253),\n",
       " np.float64(0.08703882797784893),\n",
       " np.float64(0.08703882797784893),\n",
       " np.float64(0.08703882797784893),\n",
       " np.float64(0.08703882797784893),\n",
       " np.float64(0.08703882797784893),\n",
       " np.float64(0.08703882797784893),\n",
       " np.float64(0.08703882797784893),\n",
       " np.float64(0.08703882797784893),\n",
       " np.float64(0.08703882797784893),\n",
       " np.float64(0.08703882797784893),\n",
       " np.float64(0.08703882797784893),\n",
       " np.float64(0.08703882797784893),\n",
       " np.float64(0.08703882797784893),\n",
       " np.float64(0.08703882797784893),\n",
       " np.float64(0.08703882797784893),\n",
       " np.float64(0.08703882797784893),\n",
       " np.float64(0.08703882797784893),\n",
       " np.float64(0.08703882797784893),\n",
       " np.float64(0.08703882797784893),\n",
       " np.float64(0.08636670341750612),\n",
       " np.float64(0.08585457105482137),\n",
       " np.float64(0.08585457105482137),\n",
       " np.float64(0.08585457105482137),\n",
       " np.float64(0.08570991287109667),\n",
       " np.float64(0.08506788201182269),\n",
       " np.float64(0.08506788201182269),\n",
       " np.float64(0.08471737420873576),\n",
       " np.float64(0.08471737420873576),\n",
       " np.float64(0.08471737420873576),\n",
       " np.float64(0.08471737420873576),\n",
       " np.float64(0.08444006618414981),\n",
       " np.float64(0.08444006618414981),\n",
       " np.float64(0.08444006618414981),\n",
       " np.float64(0.08444006618414981),\n",
       " np.float64(0.08444006618414981),\n",
       " np.float64(0.08444006618414981),\n",
       " np.float64(0.08444006618414981),\n",
       " np.float64(0.08444006618414981),\n",
       " np.float64(0.08389352279619343),\n",
       " np.float64(0.08362420100070908),\n",
       " np.float64(0.08362420100070908),\n",
       " np.float64(0.08362420100070908),\n",
       " np.float64(0.08362420100070908),\n",
       " np.float64(0.08322503785764791),\n",
       " np.float64(0.08263686767584087),\n",
       " np.float64(0.08263686767584087),\n",
       " np.float64(0.08257228238447706),\n",
       " np.float64(0.08257228238447706),\n",
       " np.float64(0.08206099398622184),\n",
       " np.float64(0.08206099398622184),\n",
       " np.float64(0.08206099398622184),\n",
       " np.float64(0.08206099398622184),\n",
       " np.float64(0.08206099398622184),\n",
       " np.float64(0.08206099398622184),\n",
       " np.float64(0.08206099398622184),\n",
       " np.float64(0.08206099398622184),\n",
       " np.float64(0.08206099398622184),\n",
       " np.float64(0.08155908717405554),\n",
       " np.float64(0.08155908717405554),\n",
       " np.float64(0.08155908717405554),\n",
       " np.float64(0.08155908717405554),\n",
       " np.float64(0.08155908717405554),\n",
       " np.float64(0.08155908717405554),\n",
       " np.float64(0.08155908717405554),\n",
       " np.float64(0.08155908717405554),\n",
       " np.float64(0.08149699421707284),\n",
       " np.float64(0.08149699421707284),\n",
       " np.float64(0.0809444658516353),\n",
       " np.float64(0.0809444658516353),\n",
       " np.float64(0.08058229640253804),\n",
       " np.float64(0.08058229640253804),\n",
       " np.float64(0.08058229640253804),\n",
       " np.float64(0.08058229640253804),\n",
       " np.float64(0.08040302522073696),\n",
       " np.float64(0.07987230638308718),\n",
       " np.float64(0.07987230638308718),\n",
       " np.float64(0.07987230638308718),\n",
       " np.float64(0.07987230638308718),\n",
       " np.float64(0.07987230638308718),\n",
       " np.float64(0.07987230638308718),\n",
       " np.float64(0.07963978098028485),\n",
       " np.float64(0.07963978098028485),\n",
       " np.float64(0.07963978098028485),\n",
       " np.float64(0.07963978098028485),\n",
       " np.float64(0.07963978098028485),\n",
       " np.float64(0.0787295821622217),\n",
       " np.float64(0.0787295821622217),\n",
       " np.float64(0.0787295821622217),\n",
       " np.float64(0.0787295821622217),\n",
       " np.float64(0.0787295821622217),\n",
       " np.float64(0.07834106581492747),\n",
       " np.float64(0.07784989441615231),\n",
       " np.float64(0.07784989441615231),\n",
       " np.float64(0.07784989441615231),\n",
       " np.float64(0.07784989441615231),\n",
       " np.float64(0.07784989441615231),\n",
       " np.float64(0.0778498944161523),\n",
       " np.float64(0.0778498944161523),\n",
       " np.float64(0.0778498944161523),\n",
       " np.float64(0.0778498944161523),\n",
       " np.float64(0.0778498944161523),\n",
       " np.float64(0.0778498944161523),\n",
       " np.float64(0.0778498944161523),\n",
       " np.float64(0.0778498944161523),\n",
       " np.float64(0.0778498944161523),\n",
       " np.float64(0.07699905035090181),\n",
       " np.float64(0.07699905035090181),\n",
       " np.float64(0.07699905035090181),\n",
       " np.float64(0.07699905035090181),\n",
       " np.float64(0.07699905035090181),\n",
       " np.float64(0.07699905035090181),\n",
       " np.float64(0.07643002034686835),\n",
       " np.float64(0.07617550741785385),\n",
       " np.float64(0.07617550741785385),\n",
       " np.float64(0.07617550741785385),\n",
       " np.float64(0.07617550741785385),\n",
       " np.float64(0.07617550741785385),\n",
       " np.float64(0.07617550741785385),\n",
       " np.float64(0.07617550741785385),\n",
       " np.float64(0.07617550741785385),\n",
       " np.float64(0.07617550741785385),\n",
       " np.float64(0.07597371763975865),\n",
       " np.float64(0.07597371763975865),\n",
       " np.float64(0.07597371763975865),\n",
       " np.float64(0.07597371763975865),\n",
       " np.float64(0.07597371763975865),\n",
       " np.float64(0.07597371763975865),\n",
       " np.float64(0.07597371763975865),\n",
       " np.float64(0.07597371763975865),\n",
       " np.float64(0.07597371763975865),\n",
       " np.float64(0.07597371763975865),\n",
       " np.float64(0.07597371763975865),\n",
       " np.float64(0.07597371763975865),\n",
       " np.float64(0.07597371763975865),\n",
       " np.float64(0.07597371763975865),\n",
       " np.float64(0.07537783614444092),\n",
       " np.float64(0.07537783614444092),\n",
       " np.float64(0.07537783614444092),\n",
       " np.float64(0.07537783614444092),\n",
       " np.float64(0.07537783614444092),\n",
       " np.float64(0.07537783614444092),\n",
       " np.float64(0.07537783614444092),\n",
       " np.float64(0.07460470969529907),\n",
       " np.float64(0.07460470969529907),\n",
       " np.float64(0.07460470969529907),\n",
       " np.float64(0.07460470969529907),\n",
       " np.float64(0.07460470969529907),\n",
       " np.float64(0.07422696190252055),\n",
       " np.float64(0.07422696190252055),\n",
       " np.float64(0.07422696190252055),\n",
       " np.float64(0.07422696190252055),\n",
       " np.float64(0.07422696190252055),\n",
       " np.float64(0.07422696190252055),\n",
       " np.float64(0.07422696190252055),\n",
       " np.float64(0.07422696190252055),\n",
       " np.float64(0.07422696190252055),\n",
       " np.float64(0.07422696190252055),\n",
       " np.float64(0.07422696190252055),\n",
       " np.float64(0.07422696190252055),\n",
       " np.float64(0.07422696190252055),\n",
       " np.float64(0.07422696190252055),\n",
       " np.float64(0.07422696190252055),\n",
       " np.float64(0.07422696190252055),\n",
       " np.float64(0.07422696190252055),\n",
       " np.float64(0.07422696190252055),\n",
       " np.float64(0.07385489458759964),\n",
       " np.float64(0.07385489458759964),\n",
       " np.float64(0.07385489458759964),\n",
       " np.float64(0.07385489458759964),\n",
       " np.float64(0.07385489458759964),\n",
       " np.float64(0.0738087785078065),\n",
       " np.float64(0.07312724241271307),\n",
       " np.float64(0.07312724241271307),\n",
       " np.float64(0.07312724241271307),\n",
       " np.float64(0.07312724241271307),\n",
       " np.float64(0.07312724241271307),\n",
       " np.float64(0.07259540086406278),\n",
       " np.float64(0.07259540086406278),\n",
       " np.float64(0.07259540086406278),\n",
       " np.float64(0.07259540086406278),\n",
       " np.float64(0.07259540086406278),\n",
       " np.float64(0.07259540086406278),\n",
       " np.float64(0.07259540086406278),\n",
       " np.float64(0.07259540086406278),\n",
       " np.float64(0.07259540086406278),\n",
       " np.float64(0.07259540086406278),\n",
       " np.float64(0.07259540086406278),\n",
       " np.float64(0.07259540086406278),\n",
       " np.float64(0.07259540086406278),\n",
       " np.float64(0.07259540086406278),\n",
       " np.float64(0.07259540086406278),\n",
       " np.float64(0.07259540086406278),\n",
       " np.float64(0.07242068243779015),\n",
       " np.float64(0.07242068243779015),\n",
       " np.float64(0.07242068243779015),\n",
       " np.float64(0.07242068243779015),\n",
       " np.float64(0.07242068243779015),\n",
       " np.float64(0.07173421497882157),\n",
       " np.float64(0.07173421497882157),\n",
       " np.float64(0.07173421497882157),\n",
       " np.float64(0.07173421497882157),\n",
       " np.float64(0.07143996263690931),\n",
       " np.float64(0.07106690545187017),\n",
       " np.float64(0.07106690545187017),\n",
       " np.float64(0.07106690545187017),\n",
       " np.float64(0.07106690545187017),\n",
       " np.float64(0.07106690545187017),\n",
       " np.float64(0.07106690545187017),\n",
       " np.float64(0.07106690545187017),\n",
       " np.float64(0.07106690545187017),\n",
       " np.float64(0.07106690545187017),\n",
       " np.float64(0.07106690545187017),\n",
       " np.float64(0.07106690545187017),\n",
       " np.float64(0.07106690545187015),\n",
       " np.float64(0.07106690545187015),\n",
       " np.float64(0.07106690545187015),\n",
       " np.float64(0.07041787902195304),\n",
       " np.float64(0.07041787902195304),\n",
       " np.float64(0.07041787902195304),\n",
       " np.float64(0.06978631577988532),\n",
       " np.float64(0.06978631577988532),\n",
       " np.float64(0.06978631577988532),\n",
       " np.float64(0.06978631577988532),\n",
       " np.float64(0.06963106238227915),\n",
       " np.float64(0.06963106238227915),\n",
       " np.float64(0.06963106238227915),\n",
       " np.float64(0.06963106238227915),\n",
       " np.float64(0.06963106238227915),\n",
       " np.float64(0.06963106238227915),\n",
       " np.float64(0.06963106238227915),\n",
       " np.float64(0.06963106238227915),\n",
       " np.float64(0.06963106238227915),\n",
       " np.float64(0.06963106238227915),\n",
       " np.float64(0.06963106238227915),\n",
       " np.float64(0.06963106238227915),\n",
       " np.float64(0.06963106238227915),\n",
       " np.float64(0.06963106238227915),\n",
       " np.float64(0.06963106238227915),\n",
       " np.float64(0.06857254813237415),\n",
       " np.float64(0.06857254813237415),\n",
       " np.float64(0.0682788741998919),\n",
       " np.float64(0.0682788741998919),\n",
       " np.float64(0.0682788741998919),\n",
       " np.float64(0.0682788741998919),\n",
       " np.float64(0.0682788741998919),\n",
       " np.float64(0.0682788741998919),\n",
       " np.float64(0.0682788741998919),\n",
       " np.float64(0.0682788741998919),\n",
       " np.float64(0.0682788741998919),\n",
       " np.float64(0.0682788741998919),\n",
       " np.float64(0.0682788741998919),\n",
       " np.float64(0.0682788741998919),\n",
       " np.float64(0.0682788741998919),\n",
       " np.float64(0.0682788741998919),\n",
       " np.float64(0.0682788741998919),\n",
       " np.float64(0.0682788741998919),\n",
       " np.float64(0.0682788741998919),\n",
       " np.float64(0.0682788741998919),\n",
       " np.float64(0.0682788741998919),\n",
       " np.float64(0.0682788741998919),\n",
       " np.float64(0.0682788741998919),\n",
       " np.float64(0.0682788741998919),\n",
       " np.float64(0.0682788741998919),\n",
       " np.float64(0.0682788741998919),\n",
       " np.float64(0.0682788741998919),\n",
       " np.float64(0.0679889413649005),\n",
       " np.float64(0.0679889413649005),\n",
       " np.float64(0.0679889413649005),\n",
       " np.float64(0.0679889413649005),\n",
       " np.float64(0.0679889413649005),\n",
       " np.float64(0.0679889413649005),\n",
       " np.float64(0.06741998624632421),\n",
       " np.float64(0.0674199862463242),\n",
       " np.float64(0.0674199862463242),\n",
       " np.float64(0.0674199862463242),\n",
       " np.float64(0.0674199862463242),\n",
       " np.float64(0.0674199862463242),\n",
       " np.float64(0.06700252101728081),\n",
       " np.float64(0.06700252101728081),\n",
       " np.float64(0.06700252101728081),\n",
       " np.float64(0.06700252101728081),\n",
       " np.float64(0.06700252101728081),\n",
       " np.float64(0.06700252101728081),\n",
       " np.float64(0.06700252101728081),\n",
       " np.float64(0.06700252101728081),\n",
       " np.float64(0.06700252101728081),\n",
       " np.float64(0.06700252101728081),\n",
       " np.float64(0.06700252101728081),\n",
       " np.float64(0.06700252101728081),\n",
       " np.float64(0.06686507980379898),\n",
       " np.float64(0.06686507980379898),\n",
       " np.float64(0.06686507980379898),\n",
       " np.float64(0.06632365324280728),\n",
       " np.float64(0.0657951694959769),\n",
       " np.float64(0.0657951694959769),\n",
       " np.float64(0.0657951694959769),\n",
       " np.float64(0.0657951694959769),\n",
       " np.float64(0.0657951694959769),\n",
       " np.float64(0.0657951694959769),\n",
       " np.float64(0.0657951694959769),\n",
       " np.float64(0.0657951694959769),\n",
       " np.float64(0.0657951694959769),\n",
       " np.float64(0.0657951694959769),\n",
       " np.float64(0.0657951694959769),\n",
       " np.float64(0.0657951694959769),\n",
       " np.float64(0.0657951694959769),\n",
       " np.float64(0.0657951694959769),\n",
       " np.float64(0.0657951694959769),\n",
       " np.float64(0.0657951694959769),\n",
       " np.float64(0.0657951694959769),\n",
       " np.float64(0.0657951694959769),\n",
       " np.float64(0.0657951694959769),\n",
       " np.float64(0.0657951694959769),\n",
       " np.float64(0.0657951694959769),\n",
       " np.float64(0.0657951694959769),\n",
       " np.float64(0.0657951694959769),\n",
       " np.float64(0.0652791209833867),\n",
       " np.float64(0.0652791209833867),\n",
       " np.float64(0.06521546507260247),\n",
       " np.float64(0.06477502756312958),\n",
       " np.float64(0.0646508183835236),\n",
       " np.float64(0.0646508183835236),\n",
       " np.float64(0.0646508183835236),\n",
       " np.float64(0.0646508183835236),\n",
       " np.float64(0.0646508183835236),\n",
       " np.float64(0.0646508183835236),\n",
       " np.float64(0.0646508183835236),\n",
       " np.float64(0.0646508183835236),\n",
       " np.float64(0.0646508183835236),\n",
       " np.float64(0.0646508183835236),\n",
       " np.float64(0.0646508183835236),\n",
       " np.float64(0.0646508183835236),\n",
       " np.float64(0.06434095304018192),\n",
       " np.float64(0.0642824346533225),\n",
       " np.float64(0.0642824346533225),\n",
       " np.float64(0.0642824346533225),\n",
       " np.float64(0.06383069023231291),\n",
       " np.float64(0.06380091150886702),\n",
       " np.float64(0.06356417261637282),\n",
       " np.float64(0.06356417261637282),\n",
       " np.float64(0.06356417261637282),\n",
       " np.float64(0.06356417261637282),\n",
       " np.float64(0.06356417261637282),\n",
       " np.float64(0.06356417261637282),\n",
       " np.float64(0.06356417261637282),\n",
       " np.float64(0.06356417261637282),\n",
       " np.float64(0.06356417261637282),\n",
       " np.float64(0.06356417261637282),\n",
       " np.float64(0.06286946134619316),\n",
       " np.float64(0.06286946134619316),\n",
       " np.float64(0.06253053994807226),\n",
       " np.float64(0.06253053994807226),\n",
       " np.float64(0.06253053994807226),\n",
       " np.float64(0.06253053994807226),\n",
       " np.float64(0.06253053994807226),\n",
       " np.float64(0.06253053994807226),\n",
       " np.float64(0.06253053994807226),\n",
       " np.float64(0.06253053994807226),\n",
       " np.float64(0.06253053994807226),\n",
       " np.float64(0.06253053994807226),\n",
       " np.float64(0.06253053994807226),\n",
       " np.float64(0.06253053994807226),\n",
       " np.float64(0.06253053994807226),\n",
       " np.float64(0.06253053994807226),\n",
       " np.float64(0.06253053994807226),\n",
       " np.float64(0.06197765075688065),\n",
       " np.float64(0.06154574548966637),\n",
       " np.float64(0.06154574548966637),\n",
       " np.float64(0.06154574548966637),\n",
       " np.float64(0.06154574548966637),\n",
       " np.float64(0.06154574548966637),\n",
       " np.float64(0.06154574548966637),\n",
       " np.float64(0.06154574548966637),\n",
       " np.float64(0.06154574548966637),\n",
       " np.float64(0.06154574548966637),\n",
       " np.float64(0.06154574548966637),\n",
       " np.float64(0.06154574548966637),\n",
       " np.float64(0.06154574548966637),\n",
       " np.float64(0.06154574548966637),\n",
       " np.float64(0.06154574548966637),\n",
       " np.float64(0.06154574548966637),\n",
       " np.float64(0.06154574548966637),\n",
       " np.float64(0.06154574548966637),\n",
       " np.float64(0.06154574548966637),\n",
       " np.float64(0.06154574548966637),\n",
       " np.float64(0.06154574548966637),\n",
       " np.float64(0.06154574548966637),\n",
       " np.float64(0.06154574548966637),\n",
       " np.float64(0.06112274566280462),\n",
       " np.float64(0.06112274566280462),\n",
       " np.float64(0.060708349388726476),\n",
       " np.float64(0.060708349388726476),\n",
       " np.float64(0.060708349388726476),\n",
       " np.float64(0.060708349388726476),\n",
       " np.float64(0.060606060606060615),\n",
       " np.float64(0.060606060606060615),\n",
       " np.float64(0.060606060606060615),\n",
       " np.float64(0.060606060606060615),\n",
       " np.float64(0.060606060606060615),\n",
       " np.float64(0.060606060606060615),\n",
       " np.float64(0.060606060606060615),\n",
       " np.float64(0.060606060606060615),\n",
       " np.float64(0.060606060606060615),\n",
       " np.float64(0.060606060606060615),\n",
       " np.float64(0.060606060606060615),\n",
       " np.float64(0.060606060606060615),\n",
       " np.float64(0.06030226891555272),\n",
       " np.float64(0.06030226891555272),\n",
       " np.float64(0.06030226891555272),\n",
       " np.float64(0.060152076231736955),\n",
       " np.float64(0.05990422978731538),\n",
       " np.float64(0.05970814340265321),\n",
       " np.float64(0.05970814340265321),\n",
       " np.float64(0.05970814340265321),\n",
       " np.float64(0.05970814340265321),\n",
       " np.float64(0.05970814340265321),\n",
       " np.float64(0.05970814340265321),\n",
       " np.float64(0.05970814340265321),\n",
       " np.float64(0.05970814340265321),\n",
       " np.float64(0.05970814340265321),\n",
       " np.float64(0.05970814340265321),\n",
       " np.float64(0.05970814340265321),\n",
       " np.float64(0.05970814340265321),\n",
       " np.float64(0.05970814340265321),\n",
       " np.float64(0.05970814340265321),\n",
       " np.float64(0.05970814340265321),\n",
       " np.float64(0.05970814340265321),\n",
       " np.float64(0.05970814340265321),\n",
       " np.float64(0.05970814340265321),\n",
       " np.float64(0.05970814340265321),\n",
       " np.float64(0.05951397006436156),\n",
       " np.float64(0.05951397006436156),\n",
       " np.float64(0.059131239598908265),\n",
       " np.float64(0.05884898863364997),\n",
       " np.float64(0.05884898863364997),\n",
       " np.float64(0.05884898863364997),\n",
       " np.float64(0.05884898863364997),\n",
       " np.float64(0.05884898863364997),\n",
       " np.float64(0.05884898863364997),\n",
       " np.float64(0.05884898863364997),\n",
       " np.float64(0.05884898863364997),\n",
       " np.float64(0.05884898863364997),\n",
       " np.float64(0.05884898863364997),\n",
       " np.float64(0.05884898863364997),\n",
       " np.float64(0.05884898863364997),\n",
       " np.float64(0.05884898863364997),\n",
       " np.float64(0.05884898863364997),\n",
       " np.float64(0.05884898863364997),\n",
       " np.float64(0.058755799361195606),\n",
       " np.float64(0.058755799361195606),\n",
       " np.float64(0.05838742081211422),\n",
       " np.float64(0.05802588531856595),\n",
       " np.float64(0.05802588531856595),\n",
       " np.float64(0.05802588531856595),\n",
       " np.float64(0.05802588531856595),\n",
       " np.float64(0.05802588531856595),\n",
       " np.float64(0.05802588531856595),\n",
       " np.float64(0.05802588531856595),\n",
       " np.float64(0.05802588531856595),\n",
       " np.float64(0.05802588531856595),\n",
       " np.float64(0.05802588531856595),\n",
       " np.float64(0.05802588531856595),\n",
       " np.float64(0.05802588531856595),\n",
       " np.float64(0.05802588531856595),\n",
       " np.float64(0.05802588531856595),\n",
       " np.float64(0.05802588531856595),\n",
       " np.float64(0.05802588531856595),\n",
       " np.float64(0.05802588531856595),\n",
       " np.float64(0.057670983608159435),\n",
       " np.float64(0.05743073230052641),\n",
       " np.float64(0.05723638070321425),\n",
       " np.float64(0.05723638070321425),\n",
       " np.float64(0.05723638070321425),\n",
       " np.float64(0.05723638070321425),\n",
       " np.float64(0.05723638070321425),\n",
       " np.float64(0.05723638070321425),\n",
       " np.float64(0.05723638070321425),\n",
       " np.float64(0.05723638070321425),\n",
       " np.float64(0.05723638070321425),\n",
       " np.float64(0.05723638070321425),\n",
       " np.float64(0.05723638070321425),\n",
       " np.float64(0.05723638070321425),\n",
       " np.float64(0.05647824947249051),\n",
       " np.float64(0.05647824947249051),\n",
       " np.float64(0.05647824947249051),\n",
       " np.float64(0.05647824947249051),\n",
       " np.float64(0.05647824947249051),\n",
       " np.float64(0.05647824947249051),\n",
       " np.float64(0.05647824947249051),\n",
       " np.float64(0.05647824947249051),\n",
       " np.float64(0.05647824947249051),\n",
       " np.float64(0.05647824947249051),\n",
       " np.float64(0.05647824947249051),\n",
       " np.float64(0.055749467333806056),\n",
       " np.float64(0.055749467333806056),\n",
       " np.float64(0.055749467333806056),\n",
       " np.float64(0.055749467333806056),\n",
       " np.float64(0.055749467333806056),\n",
       " np.float64(0.055749467333806056),\n",
       " np.float64(0.055749467333806056),\n",
       " np.float64(0.055749467333806056),\n",
       " np.float64(0.055749467333806056),\n",
       " np.float64(0.055749467333806056),\n",
       " np.float64(0.055749467333806056),\n",
       " np.float64(0.055749467333806056),\n",
       " np.float64(0.055749467333806056),\n",
       " np.float64(0.055749467333806056),\n",
       " np.float64(0.055749467333806056),\n",
       " np.float64(0.05515861602679127),\n",
       " np.float64(0.055048188256318034),\n",
       " np.float64(0.055048188256318034),\n",
       " np.float64(0.055048188256318034),\n",
       " np.float64(0.055048188256318034),\n",
       " np.float64(0.055048188256318034),\n",
       " np.float64(0.055048188256318034),\n",
       " np.float64(0.055048188256318034),\n",
       " np.float64(0.055048188256318034),\n",
       " np.float64(0.055048188256318034),\n",
       " np.float64(0.055048188256318034),\n",
       " np.float64(0.055048188256318034),\n",
       " np.float64(0.055048188256318034),\n",
       " np.float64(0.055048188256318034),\n",
       " np.float64(0.055048188256318034),\n",
       " np.float64(0.055048188256318034),\n",
       " np.float64(0.055048188256318034),\n",
       " np.float64(0.055048188256318034),\n",
       " np.float64(0.055048188256318034),\n",
       " np.float64(0.055048188256318034),\n",
       " np.float64(0.055048188256318034),\n",
       " np.float64(0.055048188256318034),\n",
       " np.float64(0.055048188256318034),\n",
       " np.float64(0.055048188256318034),\n",
       " np.float64(0.055048188256318034),\n",
       " np.float64(0.055048188256318034),\n",
       " np.float64(0.055048188256318034),\n",
       " np.float64(0.055048188256318034),\n",
       " np.float64(0.055048188256318034),\n",
       " np.float64(0.055048188256318034),\n",
       " np.float64(0.055048188256318034),\n",
       " np.float64(0.055048188256318034),\n",
       " np.float64(0.05487696486095817),\n",
       " np.float64(0.05437272478270369),\n",
       " np.float64(0.05437272478270369),\n",
       " np.float64(0.05437272478270369),\n",
       " np.float64(0.05437272478270369),\n",
       " np.float64(0.05437272478270369),\n",
       " np.float64(0.05437272478270369),\n",
       " np.float64(0.05437272478270369),\n",
       " np.float64(0.05437272478270369),\n",
       " np.float64(0.05437272478270369),\n",
       " np.float64(0.05437272478270369),\n",
       " np.float64(0.05437272478270369),\n",
       " np.float64(0.05437272478270369),\n",
       " np.float64(0.05437272478270369),\n",
       " np.float64(0.05437272478270369),\n",
       " np.float64(0.05437272478270369),\n",
       " np.float64(0.05437272478270369),\n",
       " np.float64(0.05437272478270369),\n",
       " np.float64(0.05437272478270369),\n",
       " np.float64(0.05437272478270369),\n",
       " np.float64(0.05437272478270369),\n",
       " np.float64(0.05437272478270369),\n",
       " np.float64(0.05437272478270369),\n",
       " np.float64(0.05372153093502536),\n",
       " np.float64(0.05372153093502536),\n",
       " np.float64(0.05372153093502536),\n",
       " np.float64(0.05372153093502536),\n",
       " np.float64(0.05372153093502536),\n",
       " np.float64(0.05372153093502536),\n",
       " np.float64(0.05372153093502536),\n",
       " np.float64(0.05372153093502536),\n",
       " np.float64(0.05372153093502536),\n",
       " np.float64(0.05372153093502536),\n",
       " np.float64(0.05372153093502536),\n",
       " np.float64(0.05372153093502536),\n",
       " np.float64(0.05372153093502536),\n",
       " np.float64(0.05372153093502536),\n",
       " np.float64(0.05372153093502536),\n",
       " np.float64(0.053300179088902624),\n",
       " np.float64(0.053093187320189895),\n",
       " np.float64(0.053093187320189895),\n",
       " np.float64(0.053093187320189895),\n",
       " np.float64(0.053093187320189895),\n",
       " np.float64(0.053093187320189895),\n",
       " np.float64(0.053093187320189895),\n",
       " np.float64(0.053093187320189895),\n",
       " np.float64(0.053093187320189895),\n",
       " np.float64(0.053093187320189895),\n",
       " np.float64(0.053093187320189895),\n",
       " np.float64(0.053093187320189895),\n",
       " np.float64(0.053093187320189895),\n",
       " np.float64(0.053093187320189895),\n",
       " np.float64(0.0530247241230202),\n",
       " np.float64(0.05275349613399974),\n",
       " np.float64(0.052486388108147805),\n",
       " np.float64(0.052486388108147805),\n",
       " np.float64(0.052486388108147805),\n",
       " np.float64(0.052486388108147805),\n",
       " np.float64(0.052486388108147805),\n",
       " np.float64(0.052486388108147805),\n",
       " np.float64(0.052486388108147805),\n",
       " np.float64(0.052486388108147805),\n",
       " np.float64(0.052486388108147805),\n",
       " np.float64(0.052486388108147805),\n",
       " np.float64(0.052486388108147805),\n",
       " np.float64(0.052486388108147805),\n",
       " np.float64(0.052486388108147805),\n",
       " np.float64(0.052486388108147805),\n",
       " np.float64(0.052486388108147805),\n",
       " np.float64(0.052486388108147805),\n",
       " np.float64(0.052486388108147805),\n",
       " np.float64(0.052486388108147805),\n",
       " np.float64(0.052486388108147805),\n",
       " np.float64(0.052486388108147805),\n",
       " np.float64(0.052486388108147805),\n",
       " np.float64(0.052486388108147805),\n",
       " np.float64(0.052486388108147805),\n",
       " np.float64(0.052486388108147805),\n",
       " np.float64(0.052486388108147805),\n",
       " np.float64(0.052486388108147805),\n",
       " np.float64(0.052486388108147805),\n",
       " np.float64(0.052486388108147805),\n",
       " np.float64(0.052486388108147805),\n",
       " np.float64(0.052486388108147805),\n",
       " np.float64(0.051899929610768204),\n",
       " np.float64(0.051899929610768204),\n",
       " np.float64(0.051899929610768204),\n",
       " np.float64(0.051899929610768204),\n",
       " np.float64(0.051899929610768204),\n",
       " np.float64(0.051899929610768204),\n",
       " np.float64(0.051899929610768204),\n",
       " np.float64(0.051899929610768204),\n",
       " np.float64(0.051899929610768204),\n",
       " np.float64(0.051899929610768204),\n",
       " np.float64(0.051899929610768204),\n",
       " np.float64(0.051899929610768204),\n",
       " np.float64(0.051899929610768204),\n",
       " np.float64(0.051899929610768204),\n",
       " np.float64(0.051899929610768204),\n",
       " np.float64(0.051899929610768204),\n",
       " np.float64(0.05161397740925092),\n",
       " np.float64(0.05133270023393454),\n",
       " np.float64(0.05133270023393454),\n",
       " np.float64(0.05133270023393454),\n",
       " np.float64(0.05133270023393454),\n",
       " np.float64(0.05133270023393454),\n",
       " np.float64(0.05133270023393454),\n",
       " np.float64(0.05133270023393454),\n",
       " np.float64(0.05133270023393454),\n",
       " np.float64(0.05133270023393454),\n",
       " np.float64(0.050783671611902566),\n",
       " np.float64(0.050783671611902566),\n",
       " np.float64(0.050783671611902566),\n",
       " np.float64(0.050783671611902566),\n",
       " np.float64(0.050783671611902566),\n",
       " np.float64(0.050783671611902566),\n",
       " np.float64(0.050783671611902566),\n",
       " np.float64(0.050783671611902566),\n",
       " np.float64(0.050783671611902566),\n",
       " np.float64(0.050783671611902566),\n",
       " np.float64(0.05025189076296061),\n",
       " np.float64(0.05025189076296061),\n",
       " np.float64(0.05025189076296061),\n",
       " np.float64(0.05025189076296061),\n",
       " np.float64(0.05025189076296061),\n",
       " np.float64(0.05025189076296061),\n",
       " np.float64(0.05025189076296061),\n",
       " np.float64(0.05025189076296061),\n",
       " np.float64(0.05025189076296061),\n",
       " np.float64(0.05025189076296061),\n",
       " np.float64(0.05025189076296061),\n",
       " np.float64(0.05025189076296061),\n",
       " np.float64(0.05025189076296061),\n",
       " np.float64(0.05025189076296061),\n",
       " np.float64(0.05025189076296061),\n",
       " np.float64(0.05025189076296061),\n",
       " np.float64(0.05025189076296061),\n",
       " np.float64(0.05025189076296061),\n",
       " np.float64(0.05025189076296061),\n",
       " np.float64(0.05025189076296061),\n",
       " np.float64(0.05025189076296061),\n",
       " np.float64(0.05025189076296061),\n",
       " np.float64(0.05025189076296061),\n",
       " np.float64(0.05025189076296061),\n",
       " np.float64(0.04973647313019938),\n",
       " np.float64(0.04973647313019938),\n",
       " np.float64(0.04973647313019938),\n",
       " np.float64(0.04973647313019938),\n",
       " np.float64(0.04973647313019938),\n",
       " np.float64(0.04973647313019938),\n",
       " np.float64(0.04973647313019938),\n",
       " np.float64(0.04973647313019938),\n",
       " np.float64(0.04973647313019938),\n",
       " np.float64(0.04973647313019938),\n",
       " np.float64(0.0492365963917331),\n",
       " np.float64(0.0492365963917331),\n",
       " np.float64(0.0492365963917331),\n",
       " np.float64(0.0492365963917331),\n",
       " np.float64(0.0492365963917331),\n",
       " np.float64(0.0492365963917331),\n",
       " np.float64(0.0492365963917331),\n",
       " np.float64(0.04875149494180871),\n",
       " np.float64(0.04875149494180871),\n",
       " np.float64(0.04875149494180871),\n",
       " ...]"
      ]
     },
     "execution_count": 91,
     "metadata": {},
     "output_type": "execute_result"
    }
   ],
   "source": [
    "sorted(similarity[0], reverse = True) #But by sorting we loose control over Index"
   ]
  },
  {
   "cell_type": "code",
   "execution_count": 97,
   "metadata": {},
   "outputs": [
    {
     "data": {
      "text/plain": [
       "[(3728, np.float64(0.2791452631195413)),\n",
       " (1214, np.float64(0.2704813730373557)),\n",
       " (1202, np.float64(0.2541521226262073)),\n",
       " (582, np.float64(0.24375747470904355)),\n",
       " (507, np.float64(0.24375747470904352))]"
      ]
     },
     "execution_count": 97,
     "metadata": {},
     "output_type": "execute_result"
    }
   ],
   "source": [
    "sorted(list(enumerate(similarity[0])),reverse=True, key=lambda x:x[1])[1:6] # List of Tuple\n",
    "#  key=lambda x:x[1]  reason of doing this is comparison with most relevant Just remove it understand it "
   ]
  },
  {
   "cell_type": "code",
   "execution_count": null,
   "metadata": {},
   "outputs": [],
   "source": [
    "# 1:34  StreamLit"
   ]
  },
  {
   "cell_type": "code",
   "execution_count": null,
   "metadata": {},
   "outputs": [],
   "source": []
  }
 ],
 "metadata": {
  "kernelspec": {
   "display_name": "venv",
   "language": "python",
   "name": "python3"
  },
  "language_info": {
   "codemirror_mode": {
    "name": "ipython",
    "version": 3
   },
   "file_extension": ".py",
   "mimetype": "text/x-python",
   "name": "python",
   "nbconvert_exporter": "python",
   "pygments_lexer": "ipython3",
   "version": "3.12.5"
  }
 },
 "nbformat": 4,
 "nbformat_minor": 2
}
